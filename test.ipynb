{
 "cells": [
  {
   "cell_type": "code",
   "execution_count": 24,
   "metadata": {},
   "outputs": [],
   "source": [
    "from typing import TypedDict, Optional, List, Callable, Dict, Any, Literal\n",
    "from typing_extensions import Annotated\n",
    "import os\n",
    "from langchain_core.messages import AnyMessage, SystemMessage, HumanMessage\n",
    "from langchain_groq import ChatGroq\n",
    "from langgraph.checkpoint.memory import MemorySaver\n",
    "from youtube_transcript_api import YouTubeTranscriptApi\n",
    "from langgraph.graph import StateGraph, add_messages\n",
    "from dotenv import load_dotenv\n",
    "from IPython.display import Image, display\n",
    "from langgraph.graph import START, END"
   ]
  },
  {
   "cell_type": "code",
   "execution_count": 25,
   "metadata": {},
   "outputs": [],
   "source": [
    "load_dotenv()\n",
    "os.environ[\"GROQ_API_KEY\"]=os.getenv(\"GROQ_API_KEY\")"
   ]
  },
  {
   "cell_type": "code",
   "execution_count": 36,
   "metadata": {},
   "outputs": [],
   "source": [
    "class BlogGenState(TypedDict):\n",
    "    yt_url: Optional[str]\n",
    "    transcript: Optional[str]\n",
    "    blog_title: Optional[str]\n",
    "    blog_content: Optional[str]\n",
    "    regenerate_status: Optional[str]\n",
    "    message: Annotated[list[AnyMessage], add_messages]"
   ]
  },
  {
   "cell_type": "code",
   "execution_count": 42,
   "metadata": {},
   "outputs": [],
   "source": [
    "class Agents:\n",
    "    def __init__(self):\n",
    "        self.llm = ChatGroq(model=\"qwen-2.5-32b\")\n",
    "    def generate_blog(self, state: BlogGenState) -> BlogGenState:\n",
    "        \"\"\"\n",
    "        Generates a title and content for the blog based on the transcript.\n",
    "        \n",
    "        Args:\n",
    "            state: The current state of the workflow\n",
    "            \n",
    "        Returns:\n",
    "            Updated state with blog title and content\n",
    "        \"\"\"\n",
    "        transcript = state.get(\"transcript\")\n",
    "        if transcript is None:\n",
    "            video_id = state[\"yt_url\"].split(\"v=\")[-1].split(\"&\")[0]\n",
    "            transcript_list = YouTubeTranscriptApi.get_transcript(video_id)\n",
    "            full_transcript = \" \".join([entry['text'] for entry in transcript_list])\n",
    "            state[\"transcript\"] = full_transcript\n",
    "        regen_status = state.get(\"regenerate_status\")\n",
    "        if regen_status == \"yes\":\n",
    "            title_regenerate_prompt = [\n",
    "                SystemMessage(content=\"The user has chosen to regenerate the blog title. Please provide a new title for the blog post based on the transcript. PREVIOUS INSTRUCTIONS: You are an expert in generating titles for BLOG posts based on the transcripts of YouTube videos. IMPORTANT: YOU SIMPLY ONLY CREATE TITLES FOR THE BLOG. NO EXPLANATION IS REQUIRED.\"),\n",
    "                HumanMessage(content=f\"Generate a good blog title for a video with the following transcript: {state['transcript']}\")\n",
    "            ]\n",
    "            content_regenerate_prompt = [\n",
    "                SystemMessage(content=\"The user has chosen to regenerate the blog content. Please provide new content for the blog post based on the transcript. PREVIOUS INSTRUCTIONS: You are an expert in generating content for BLOG posts based on the transcripts of YouTube videos. IMPORTANT: YOU SIMPLY ONLY CREATE CONTENT FOR THE BLOG. THE TITLE IS ALREADY PROVIDED. Output format: Simply output the content in markdown format with appropriate headings, paragraphs, and formatting.\"),\n",
    "                HumanMessage(content=f\"Generate blog content for the title '{state['blog_title']}' based on the following transcript: {state['transcript']}\")\n",
    "            ]\n",
    "            regenerated_title = self.llm.invoke(title_regenerate_prompt).content.strip()\n",
    "            regenerated_content = self.llm.invoke(content_regenerate_prompt).content.strip()\n",
    "\n",
    "            return {\n",
    "                \"blog_title\": regenerated_title,\n",
    "                \"blog_content\": regenerated_content,\n",
    "                \"message\": state[\"message\"] + [\n",
    "                    SystemMessage(content=f\"Blog title and content regenerated on the users request.\")\n",
    "                ]\n",
    "            }\n",
    "\n",
    "        title_prompt = [\n",
    "            SystemMessage(content=\"You are an expert in generating titles for BLOG posts based on the transcripts of YouTube videos. IMPORTANT: YOU SIMPLY ONLY CREATE TITLES FOR THE BLOG. NO EXPLANATION IS REQUIRED.\"),\n",
    "            HumanMessage(content=f\"Generate a good blog title for a video with the following transcript: {state['transcript']}\")\n",
    "        ]\n",
    "        blog_title = self.llm.invoke(title_prompt).content.strip()\n",
    "\n",
    "        content_prompt = [\n",
    "            SystemMessage(content=\"\"\"You are an expert in generating content for BLOG posts based on the transcripts of YouTube videos. \n",
    "            IMPORTANT: YOU SIMPLY ONLY CREATE CONTENT FOR THE BLOG. THE TITLE IS ALREADY PROVIDED. \n",
    "            Output format: Simply output the content in markdown format with appropriate headings, paragraphs, and formatting.\"\"\"),\n",
    "            HumanMessage(content=f\"Generate blog content for the title '{blog_title}' based on the following transcript: {state['transcript']}\")\n",
    "        ]\n",
    "        blog_content = self.llm.invoke(content_prompt).content.strip()\n",
    "\n",
    "        return {\n",
    "            \"blog_title\": blog_title,\n",
    "            \"blog_content\": blog_content,\n",
    "            \"message\": state[\"message\"] + [\n",
    "                SystemMessage(content=\"Transcript fetched successfully.\"),\n",
    "                SystemMessage(content=f\"Blog title generated: {blog_title}\"),\n",
    "                SystemMessage(content=\"Blog content generated successfully.\")\n",
    "            ]\n",
    "        }\n",
    "    def human_feedback(self, state: BlogGenState) -> BlogGenState:\n",
    "        \"\"\"Just an empty to update the feedback param\"\"\"\n",
    "        return state"
   ]
  },
  {
   "cell_type": "code",
   "execution_count": 43,
   "metadata": {},
   "outputs": [],
   "source": [
    "class BlogGenGraph:\n",
    "    def __init__(self):\n",
    "        self.agents = Agents()\n",
    "    def regenerate_condition_or_not(self, state: BlogGenState) -> Literal[\"regenerate\",\"end\"]:\n",
    "        if state[\"regenerate_status\"] == \"yes\":\n",
    "            return \"regenerate\"\n",
    "        else:    \n",
    "            return \"end\" \n",
    "    def create_graph(self):\n",
    "        graph_builder = StateGraph(BlogGenState)\n",
    "        graph_builder.add_node(\"generate_blog_with_title\",self.agents.generate_blog)\n",
    "        graph_builder.add_node(\"human_feedback\",self.agents.human_feedback)\n",
    "        graph_builder.add_edge(\"generate_blog_with_title\",\"human_feedback\")\n",
    "        graph_builder.add_conditional_edges(\"human_feedback\",self.regenerate_condition_or_not, {\"regenerate\": \"generate_blog_with_title\", \"end\": END})\n",
    "\n",
    "        graph_builder.set_entry_point(\"generate_blog_with_title\")\n",
    "\n",
    "        memory = MemorySaver()\n",
    "        graph = graph_builder.compile(checkpointer=memory, interrupt_before=[\"human_feedback\"])\n",
    "        return graph"
   ]
  },
  {
   "cell_type": "code",
   "execution_count": 53,
   "metadata": {},
   "outputs": [
    {
     "data": {
      "image/png": "[encoded data removed]",
      "text/plain": [
       "<IPython.core.display.Image object>"
      ]
     },
     "metadata": {},
     "output_type": "display_data"
    }
   ],
   "source": [
    "graph = BlogGenGraph().create_graph()\n",
    "display(Image(graph.get_graph(xray=1).draw_mermaid_png()))"
   ]
  },
  {
   "cell_type": "code",
   "execution_count": 60,
   "metadata": {},
   "outputs": [],
   "source": [
    "youtubelink = \"https://www.youtube.com/watch?v=SmyPTnlqhlk\"\n",
    "thread = {\"configurable\": {\"thread_id\": \"1\"}}"
   ]
  },
  {
   "cell_type": "code",
   "execution_count": null,
   "metadata": {},
   "outputs": [
    {
     "name": "stdout",
     "output_type": "stream",
     "text": [
      "# 10 Mind-Boggling Algorithms That Changed the World: From Quantum Computing to Video Game Maps\n",
      "\n",
      "Algorithms are the backbone of modern technology, allowing machines to solve complex problems and process vast amounts of data. In this blog post, we will explore 10 of the most fascinating algorithms that have revolutionized various fields, from healthcare to video games.\n",
      "\n",
      "## 1. Marching Cubes: Visualizing Medical Data\n",
      "\n",
      "In 1987, two programmers at General Electric invented the Marching Cubes algorithm to visualize medical data. This algorithm takes a 3D scalar field (like MRI data) and creates a 3D mesh, enabling doctors to better understand and treat medical conditions. It works by iterating through each point in the 3D space, examining its neighboring points, and using pre-calculated arrays to construct a mesh that accurately represents the data.\n",
      "\n",
      "## 2. Wave Function Collapse: Procedural Content Generation\n",
      "\n",
      "Wave Function Collapse takes inspiration from quantum mechanics, specifically the concept of wave function collapse. When applied to procedural content generation, it allows for the creation of random yet cohesive game maps. By starting with an initial superposition (uncertainty) and collapsing into a specific state (selected map tiles) based on predefined rules, it ensures that the generated maps remain logically consistent and varied.\n",
      "\n",
      "## 3. Diffusion Algorithm: AI Image Generation\n",
      "\n",
      "The diffusion algorithm, developed by OpenAI, is behind modern AI image generators like DALL-E and Stable Diffusion. Inspired by thermodynamics, this algorithm begins with random noise (high entropy) and gradually refines it to produce structured images (lower entropy). This process, though computationally intensive, allows for the generation of highly detailed and creative images.\n",
      "\n",
      "## 4. Simulated Annealing: Optimization in Programming\n",
      "\n",
      "Simulated Annealing is an optimization algorithm inspired by metallurgy, where materials are heated and cooled to improve their properties. In programming, it helps find the best solution from a large set of possibilities by allowing occasional \"bad\" choices (similar to a high-temperature state) to escape local optima and eventually settle into a more optimal solution as \"temperature\" decreases.\n",
      "\n",
      "## 5. Sleep Sort: The Lazy Programmer’s Trick\n",
      "\n",
      "Sleep Sort is an unconventional sorting algorithm that leverages the operating system's scheduling mechanism. By spawning a new thread for each element in the array and letting each thread \"sleep\" for a duration proportional to its value, the operating system takes care of sorting the elements as they wake up. While not very practical, it demonstrates the creative possibilities in algorithm design.\n",
      "\n",
      "## 6. Quantum BOGO Sort: The Multiverse and Sorting\n",
      "\n",
      "BOGO sort is a humorous sorting algorithm that randomly shuffles an array until it's sorted, a process akin to playing the lottery. Applying BOGO sort to quantum mechanics and the multiverse theory, we can imagine an array sorted in a parallel universe. While theoretically interesting, practical implementation faces significant challenges.\n",
      "\n",
      "## 7. RSA Algorithm: The Backbone of Internet Security\n",
      "\n",
      "The RSA algorithm is a cornerstone of modern cryptography, enabling secure communication over the internet. Based on the difficulty of factorizing large numbers into their prime factors, RSA allows for secure key exchange and digital signatures. With the potential threats posed by quantum computing, new algorithms must be developed to ensure continued security, such as Shor's algorithm.\n",
      "\n",
      "## 8. Shor's Algorithm: Quantum Factoring\n",
      "\n",
      "Shor's algorithm is designed to run on quantum computers and can factorize large integers exponentially faster than classical computers. It utilizes qubits, superposition, and entanglement to perform calculations in parallel, potentially breaking traditional cryptographic methods. However, current quantum computers are still in their infancy and cannot yet handle large numbers, though advancements are rapidly being made.\n",
      "\n",
      "## 9. Byzantine Generals Problem: Consensus in Distributed Systems\n",
      "\n",
      "The Byzantine Generals Problem is a thought experiment that reflects the challenges of achieving consensus in distributed systems, where nodes might fail or be malicious. Algorithms like Practical Byzantine Fault Tolerance (PBFT) ensure that a distributed network can reach an agreement even if some nodes fail or act unpredictably. This is crucial for the consistency and reliability of blockchain technology and distributed databases.\n",
      "\n",
      "## 10. Boids: Simulating Flocking Behavior\n",
      "\n",
      "Boids, a simulation created by Craig Reynolds in 1986, models the flocking behavior of birds. By adhering to three simple rules—collision avoidance, velocity matching, and flock centering—Boids can produce complex, lifelike flocking patterns. These rules demonstrate how simple algorithms can give rise to complex behaviors, reflecting the emergent complexity found in nature.\n",
      "\n",
      "## Conclusion\n",
      "\n",
      "From transforming medical imaging to generating lifelike game environments, algorithms have revolutionized our world in numerous ways. They not only solve practical problems but also inspire us to think creatively and explore the unknown. The beauty of algorithms lies in their ability to simplify complexity and uncover the underlying patterns that govern our world.\n",
      "# 10 Mind-Bending Algorithms That Changed the World: From Quantum Computing to Video Game Maps\n",
      "\n",
      "## Introduction to Algorithms\n",
      "\n",
      "Have you ever woken up in the middle of the night, panicking about how to extract a polygonal mesh from a three-dimensional discrete scalar field? Probably not. But in 1987, two programmers at General Electric did just that. They created and patented the marching cubes algorithm, which is used extensively in medical imaging, allowing doctors to visualize data from CT and MRI scans. When you instruct a machine to solve a problem with code, you're creating an algorithm—a procedure that rearranges ones and zeros to solve a problem. While many algorithms might end up in the dumpster, some are fast, beautiful, and so weird they're indistinguishable from magic. \n",
      "\n",
      "## Wave Function Collapse: The Weirdest Algorithm\n",
      "\n",
      "One of the weirdest algorithms is wave function collapse, which draws its inspiration from quantum physics. The double-slit experiment in quantum mechanics tells us that particles can behave like waves when not observed, and collapse into a particle when observed. This concept can be applied to procedural content generation for video games. Imagine a map for a side-scrolling game that needs to be generated on the fly. The initial map can be seen as a superposition of all possibilities, which then collapses into a coherent map following certain rules, ensuring consistency and randomness. \n",
      "\n",
      "## Diffusion: AI and Thermodynamics\n",
      "\n",
      "Diffusion, an algorithm originally developed at OpenAI, has become the backbone of image generators like Dolly and Stable Diffusion. Inspired by thermodynamics, where particles spread from areas of higher concentration to lower concentration, diffusion starts with random noise (high entropy) and refines it into structured images (lower entropy). This algorithm is incredibly compute-intensive but has the potential to revolutionize how we generate images, audio, and even video. \n",
      "\n",
      "## Simulated Annealing: Optimization Algorithms\n",
      "\n",
      "Optimization algorithms are essential for finding the best solution among many possible ones. Simulated annealing, inspired by the metallurgical process of annealing (heating and cooling a material to remove defects), is one such algorithm. It starts by exploring all possible solutions freely and gradually narrows down to the best solution by minimizing the probability of accepting worse solutions. The process mirrors the cooling of a metal, where the temperature is gradually lowered, affecting how the system settles into the lowest energy state. \n",
      "\n",
      "## Sleep Sort: Unconventional Sorting\n",
      "\n",
      "Sorting algorithms are a staple in computing. Sleep sort is one of the unconventional methods where instead of using traditional sorting techniques like divide and conquer, it relies on the CPU scheduler. The algorithm loops through an array, opening a new thread for each element, which then sleeps for a time proportional to the value of the element. Once the threads wake up, they print the elements, effectively sorting the array using the scheduler. While unconventional and not practical, it showcases the creativity that goes into algorithm design.\n",
      "\n",
      "## RSA and Quantum Computing\n",
      "\n",
      "RSA, a public key cryptography system, is crucial for digital security. It relies on the mathematical difficulty of factoring large numbers into their prime components. With the advent of quantum computing, algorithms like Shor's algorithm could potentially solve the integer factorization problem exponentially faster, threatening the security of RSA. Shor's algorithm exploits concepts like qubits, superposition, and entanglement to perform massive calculations in parallel. This algorithm, while powerful, hasn't yet posed a significant threat to real-world security, but the potential is there.\n",
      "\n",
      "## Marching Cubes: Visualizing Medical Data\n",
      "\n",
      "The marching cubes algorithm, mentioned at the beginning, is a method to extract a polygonal mesh from a 3D scalar field. Starting with a single point and considering its eight neighboring points, the algorithm creates a mesh that can be visualized in 3D. This algorithm is used in medical imaging to create 3D models of MRI and CT scan data, revolutionizing how doctors understand and diagnose medical conditions.\n",
      "\n",
      "## Byzantine Generals Problem and Blockchain\n",
      "\n",
      "In distributed computing, the Byzantine generals problem illustrates the challenge of achieving consensus in a system with potentially faulty or malicious nodes. Algorithms like Practical Byzantine Fault Tolerance (PBFT) help solve this problem by ensuring that even if one-third of the nodes are faulty, the system still functions correctly. This is crucial for the functioning of blockchain technology and distributed cloud databases, where consistency and reliability are paramount.\n",
      "\n",
      "## Boids: Emergent Behavior\n",
      "\n",
      "Boids, an artificial life program created in 1986, simulates the flocking behavior of birds. The program uses simple rules: avoid crowding, match the average heading of nearby boids, and steer towards the average position of nearby boids. These rules create complex and natural-looking patterns, demonstrating how simple rules can lead to complex emergent behavior, a concept that's widely applied in AI and game development.\n",
      "\n",
      "## Boyer–Moore: Efficient String Search\n",
      "\n",
      "Lastly, the Boyer–Moore string search algorithm is a testament to efficiency. Unlike traditional search algorithms that check each character from left to right, Boyer–Moore searches from right to left and uses heuristics to skip characters. This makes the algorithm faster and more efficient as the size of the text increases. This is why tools like `grep` are so fast and effective.\n",
      "\n",
      "## Conclusion\n",
      "\n",
      "Algorithms are the backbone of modern technology, from medical imaging to quantum computing. They help us solve complex problems, optimize solutions, and generate content in ways that were once unimaginable. As technology advances, so do the algorithms that drive it, making the world of computing as fascinating as it is complex.\n"
     ]
    }
   ],
   "source": [
    "for event in graph.stream({\"yt_url\": youtubelink},thread, stream_mode=\"values\"):\n",
    "    content = event.get(\"blog_content\")\n",
    "    print(content)"
   ]
  },
  {
   "cell_type": "code",
   "execution_count": 47,
   "metadata": {},
   "outputs": [
    {
     "data": {
      "text/plain": [
       "('human_feedback',)"
      ]
     },
     "execution_count": 65,
     "metadata": {},
     "output_type": "execute_result"
    }
   ],
   "source": [
    "graph.get_state(thread).next"
   ]
  },
  {
   "cell_type": "code",
   "execution_count": 48,
   "metadata": {},
   "outputs": [
    {
     "data": {
      "text/plain": [
       "{'configurable': {'thread_id': '1',\n",
       "  'checkpoint_ns': '',\n",
       "  'checkpoint_id': '1eff5e70-ce49-6053-800c-207bce00e5fa'}}"
      ]
     },
     "execution_count": 66,
     "metadata": {},
     "output_type": "execute_result"
    }
   ],
   "source": [
    "graph.update_state(thread, {\"regenerate_status\": \"yes\"}, as_node=\"human_feedback\")"
   ]
  },
  {
   "cell_type": "code",
   "execution_count": 49,
   "metadata": {},
   "outputs": [
    {
     "name": "stdout",
     "output_type": "stream",
     "text": [
      "{'yt_url': 'https://www.youtube.com/watch?v=SmyPTnlqhlk', 'blog_title': '10 Mind-Bending Algorithms That Changed the World: From Quantum Computing to Video Game Maps', 'blog_content': \"# 10 Mind-Bending Algorithms That Changed the World: From Quantum Computing to Video Game Maps\\n\\n## Introduction to Algorithms\\n\\nHave you ever woken up in the middle of the night, panicking about how to extract a polygonal mesh from a three-dimensional discrete scalar field? Probably not. But in 1987, two programmers at General Electric did just that. They created and patented the marching cubes algorithm, which is used extensively in medical imaging, allowing doctors to visualize data from CT and MRI scans. When you instruct a machine to solve a problem with code, you're creating an algorithm—a procedure that rearranges ones and zeros to solve a problem. While many algorithms might end up in the dumpster, some are fast, beautiful, and so weird they're indistinguishable from magic. \\n\\n## Wave Function Collapse: The Weirdest Algorithm\\n\\nOne of the weirdest algorithms is wave function collapse, which draws its inspiration from quantum physics. The double-slit experiment in quantum mechanics tells us that particles can behave like waves when not observed, and collapse into a particle when observed. This concept can be applied to procedural content generation for video games. Imagine a map for a side-scrolling game that needs to be generated on the fly. The initial map can be seen as a superposition of all possibilities, which then collapses into a coherent map following certain rules, ensuring consistency and randomness. \\n\\n## Diffusion: AI and Thermodynamics\\n\\nDiffusion, an algorithm originally developed at OpenAI, has become the backbone of image generators like Dolly and Stable Diffusion. Inspired by thermodynamics, where particles spread from areas of higher concentration to lower concentration, diffusion starts with random noise (high entropy) and refines it into structured images (lower entropy). This algorithm is incredibly compute-intensive but has the potential to revolutionize how we generate images, audio, and even video. \\n\\n## Simulated Annealing: Optimization Algorithms\\n\\nOptimization algorithms are essential for finding the best solution among many possible ones. Simulated annealing, inspired by the metallurgical process of annealing (heating and cooling a material to remove defects), is one such algorithm. It starts by exploring all possible solutions freely and gradually narrows down to the best solution by minimizing the probability of accepting worse solutions. The process mirrors the cooling of a metal, where the temperature is gradually lowered, affecting how the system settles into the lowest energy state. \\n\\n## Sleep Sort: Unconventional Sorting\\n\\nSorting algorithms are a staple in computing. Sleep sort is one of the unconventional methods where instead of using traditional sorting techniques like divide and conquer, it relies on the CPU scheduler. The algorithm loops through an array, opening a new thread for each element, which then sleeps for a time proportional to the value of the element. Once the threads wake up, they print the elements, effectively sorting the array using the scheduler. While unconventional and not practical, it showcases the creativity that goes into algorithm design.\\n\\n## RSA and Quantum Computing\\n\\nRSA, a public key cryptography system, is crucial for digital security. It relies on the mathematical difficulty of factoring large numbers into their prime components. With the advent of quantum computing, algorithms like Shor's algorithm could potentially solve the integer factorization problem exponentially faster, threatening the security of RSA. Shor's algorithm exploits concepts like qubits, superposition, and entanglement to perform massive calculations in parallel. This algorithm, while powerful, hasn't yet posed a significant threat to real-world security, but the potential is there.\\n\\n## Marching Cubes: Visualizing Medical Data\\n\\nThe marching cubes algorithm, mentioned at the beginning, is a method to extract a polygonal mesh from a 3D scalar field. Starting with a single point and considering its eight neighboring points, the algorithm creates a mesh that can be visualized in 3D. This algorithm is used in medical imaging to create 3D models of MRI and CT scan data, revolutionizing how doctors understand and diagnose medical conditions.\\n\\n## Byzantine Generals Problem and Blockchain\\n\\nIn distributed computing, the Byzantine generals problem illustrates the challenge of achieving consensus in a system with potentially faulty or malicious nodes. Algorithms like Practical Byzantine Fault Tolerance (PBFT) help solve this problem by ensuring that even if one-third of the nodes are faulty, the system still functions correctly. This is crucial for the functioning of blockchain technology and distributed cloud databases, where consistency and reliability are paramount.\\n\\n## Boids: Emergent Behavior\\n\\nBoids, an artificial life program created in 1986, simulates the flocking behavior of birds. The program uses simple rules: avoid crowding, match the average heading of nearby boids, and steer towards the average position of nearby boids. These rules create complex and natural-looking patterns, demonstrating how simple rules can lead to complex emergent behavior, a concept that's widely applied in AI and game development.\\n\\n## Boyer–Moore: Efficient String Search\\n\\nLastly, the Boyer–Moore string search algorithm is a testament to efficiency. Unlike traditional search algorithms that check each character from left to right, Boyer–Moore searches from right to left and uses heuristics to skip characters. This makes the algorithm faster and more efficient as the size of the text increases. This is why tools like `grep` are so fast and effective.\\n\\n## Conclusion\\n\\nAlgorithms are the backbone of modern technology, from medical imaging to quantum computing. They help us solve complex problems, optimize solutions, and generate content in ways that were once unimaginable. As technology advances, so do the algorithms that drive it, making the world of computing as fascinating as it is complex.\", 'regenerate_status': 'yes', 'message': [SystemMessage(content='Transcript fetched successfully.', additional_kwargs={}, response_metadata={}, id='08f3badd-5966-466e-a605-951415c5e5f8'), SystemMessage(content='Blog title generated: 10 Mind-Boggling Algorithms That Changed the World: From Quantum Computing to Video Game Maps', additional_kwargs={}, response_metadata={}, id='6f063535-e457-4d6a-a2c7-070f042e32af'), SystemMessage(content='Blog content generated successfully.', additional_kwargs={}, response_metadata={}, id='55e9499b-4872-4506-b58a-c752b07fc6ff'), SystemMessage(content='Transcript fetched successfully.', additional_kwargs={}, response_metadata={}, id='0130a0af-a266-42c7-bbd1-be256323fac2'), SystemMessage(content='Blog title generated: 10 Mind-Boggling Algorithms That Changed the World: From Quantum Computing to Video Game Maps', additional_kwargs={}, response_metadata={}, id='ae924607-ea29-4491-b603-aa799c02c97e'), SystemMessage(content='Blog content generated successfully.', additional_kwargs={}, response_metadata={}, id='95d3eae0-4a9d-447f-9164-eb1c2b3a96c6'), SystemMessage(content='Transcript fetched successfully.', additional_kwargs={}, response_metadata={}, id='99d0818e-e1d2-4b29-921c-a0dab254efe6'), SystemMessage(content='Blog title generated: 10 Mind-Bending Algorithms That Changed the World: From Quantum Computing to Video Game Maps', additional_kwargs={}, response_metadata={}, id='a4a1bc16-f3bf-456b-879b-817ea94e5105'), SystemMessage(content='Blog content generated successfully.', additional_kwargs={}, response_metadata={}, id='574d57b2-a2ce-43c7-b421-1d534687013b')]}\n",
      "{'yt_url': 'https://www.youtube.com/watch?v=SmyPTnlqhlk', 'blog_title': '10 Mind-Boggling Algorithms That Rule the Digital World', 'blog_content': '# 10 Mind-Bending Algorithms That Changed the World: From Quantum Computing to Video Game Maps\\n\\nAlgorithms are the backbone of modern technology, making it possible to solve complex problems and create innovative solutions. From medical imaging to video game design, here are 10 mind-bending algorithms that have changed the world.\\n\\n## Wave Function Collapse\\n\\nWave Function Collapse is a fascinating algorithm that takes inspiration from quantum mechanics. It\\'s used in procedural content generation, particularly in creating endless maps for video games. The algorithm starts with an initial map, which can be seen as a superposition of all possibilities. As the game progresses, the map \"collapses\" into a more defined form, ensuring consistency and coherence. This process is similar to the concept of wave function collapse in quantum physics, where a particle\\'s state is determined upon observation.\\n\\n## Diffusion Models\\n\\nDiffusion models, originally developed at OpenAI, are at the heart of cutting-edge image generation tools like DALL-E and Stable Diffusion. These models are based on a thermodynamic concept where particles spread from areas of high concentration to low concentration. In AI, this process is reversed: the algorithm starts with random noise and gradually refines it into a structured image. After training on millions of labeled images, the diffusion model can generate new images that are both random and coherent, revolutionizing how we think about image and video generation.\\n\\n## Simulated Annealing\\n\\nSimulated Annealing is a powerful optimization algorithm inspired by the process of heating and cooling metals to remove defects. In computing, it helps find the optimal solution in a large solution space. The algorithm starts with a high \"temperature\" allowing for a wide exploration of possible solutions. As the \"temperature\" decreases, the algorithm narrows down to the best solution. This method is particularly useful in complex optimization problems, such as scheduling, logistics, and machine learning.\\n\\n## Sleep Sort\\n\\nSleep sort is a humorous yet ingenious sorting algorithm that relies on the CPU scheduler to do the heavy lifting. In this algorithm, each element of the array is assigned to a separate thread that sleeps for a duration proportional to the element\\'s value. Once all threads wake up, the elements are sorted based on their wake-up times. While not practical for real-world applications, sleep sort demonstrates the power of leveraging the underlying system\\'s capabilities in creative ways.\\n\\n## RSA Encryption\\n\\nRSA encryption is a cornerstone of modern cryptography, enabling secure communication over the internet. This public-key cryptography system relies on the difficulty of factoring large numbers into their prime components. While RSA has been the gold standard for encryption, the advent of quantum computing and algorithms like Shor\\'s algorithm pose a threat. Shor\\'s algorithm, which leverages quantum mechanics, can factor integers exponentially faster than classical algorithms, potentially rendering traditional encryption methods obsolete.\\n\\n## Boyd\\'s Flocking Algorithm\\n\\nBoyd\\'s Flocking Algorithm, developed in 1986, simulates the flocking behavior of birds. It operates on just three simple rules: avoid crowding, align with the flock\\'s average heading, and steer towards the center of mass of nearby flock mates. These simple rules create emergent patterns that mimic the complex behavior of flocks, demonstrating how simple rules can lead to complex and beautiful results. This algorithm has been widely applied in video games and simulations to create realistic group behaviors.\\n\\n## Quantum Bogo Sort\\n\\nQuantum Bogo Sort is a humorous concept that combines quantum computing with the infamous Bogo Sort. Bogo Sort, also known as \"monkey sort,\" randomly shuffles elements until they are in the correct order. Quantum Bogo Sort takes this to the multiverse scale: if there are multiple universes, one of them must have the array sorted. By randomly observing different universes, it can find the sorted array. While purely theoretical, it highlights the bizarre and fascinating implications of quantum mechanics in computing.\\n\\n## Marching Cubes Algorithm\\n\\nThe Marching Cubes Algorithm, developed in 1987, is a 3D surface reconstruction technique used in medical imaging. It converts 3D scalar field data, such as CT or MRI scans, into a polygonal mesh. The algorithm iterates through the data, creating a 3D mesh that accurately represents the scanned object. This was a groundbreaking technique that allowed doctors and researchers to visualize complex 3D data in real-time, improving medical diagnostics and treatment planning.\\n\\n## Byzantine Fault Tolerance (PBFT)\\n\\nByzantine Fault Tolerance (PBFT) is an algorithm designed to maintain consistency in distributed systems, even when some nodes fail or act maliciously. This is crucial for blockchain technology and distributed databases. The algorithm works by broadcasting messages and achieving consensus through a series of steps: pre-prepare, prepare, commit. PBFT ensures that the system remains functional even if up to one-third of the nodes are compromised, making it a cornerstone of secure distributed computing.\\n\\n## Boyer–Moore String Search\\n\\nBoyer–Moore String Search is an efficient string searching algorithm that works by skipping sections of the search string that do not need to be checked. It uses two heuristics: the bad character rule and the good suffix rule, which allow it to skip large chunks of text. The more the text grows, the faster the algorithm becomes, making it highly efficient for large datasets. This is why tools like `grep` are so fast—thanks to the Boyer–Moore algorithm, they can efficiently search through massive amounts of data.\\n\\nThese algorithms, from the whimsical to the groundbreaking, showcase the incredible range and power of computational problem-solving. Whether it\\'s creating virtual worlds, securing data, or even simulating the behavior of birds, these algorithms have transformed the way we interact with technology and understand the world around us.', 'regenerate_status': 'yes', 'message': [SystemMessage(content='Transcript fetched successfully.', additional_kwargs={}, response_metadata={}, id='08f3badd-5966-466e-a605-951415c5e5f8'), SystemMessage(content='Blog title generated: 10 Mind-Boggling Algorithms That Changed the World: From Quantum Computing to Video Game Maps', additional_kwargs={}, response_metadata={}, id='6f063535-e457-4d6a-a2c7-070f042e32af'), SystemMessage(content='Blog content generated successfully.', additional_kwargs={}, response_metadata={}, id='55e9499b-4872-4506-b58a-c752b07fc6ff'), SystemMessage(content='Transcript fetched successfully.', additional_kwargs={}, response_metadata={}, id='0130a0af-a266-42c7-bbd1-be256323fac2'), SystemMessage(content='Blog title generated: 10 Mind-Boggling Algorithms That Changed the World: From Quantum Computing to Video Game Maps', additional_kwargs={}, response_metadata={}, id='ae924607-ea29-4491-b603-aa799c02c97e'), SystemMessage(content='Blog content generated successfully.', additional_kwargs={}, response_metadata={}, id='95d3eae0-4a9d-447f-9164-eb1c2b3a96c6'), SystemMessage(content='Transcript fetched successfully.', additional_kwargs={}, response_metadata={}, id='99d0818e-e1d2-4b29-921c-a0dab254efe6'), SystemMessage(content='Blog title generated: 10 Mind-Bending Algorithms That Changed the World: From Quantum Computing to Video Game Maps', additional_kwargs={}, response_metadata={}, id='a4a1bc16-f3bf-456b-879b-817ea94e5105'), SystemMessage(content='Blog content generated successfully.', additional_kwargs={}, response_metadata={}, id='574d57b2-a2ce-43c7-b421-1d534687013b'), SystemMessage(content='Blog title and content regenerated on the users request.', additional_kwargs={}, response_metadata={}, id='f166ed9b-f035-438b-9bba-4b6bcb8ff930')]}\n"
     ]
    }
   ],
   "source": [
    "for event in graph.stream(None,thread, stream_mode=\"values\"):\n",
    "    print(event)"
   ]
  },
  {
   "cell_type": "code",
   "execution_count": 50,
   "metadata": {},
   "outputs": [
    {
     "data": {
      "text/plain": [
       "('human_feedback',)"
      ]
     },
     "execution_count": 68,
     "metadata": {},
     "output_type": "execute_result"
    }
   ],
   "source": [
    "graph.get_state(thread).next"
   ]
  },
  {
   "cell_type": "code",
   "execution_count": 51,
   "metadata": {},
   "outputs": [
    {
     "data": {
      "text/plain": [
       "{'configurable': {'thread_id': '1',\n",
       "  'checkpoint_ns': '',\n",
       "  'checkpoint_id': '1eff5e71-a2a9-6fc8-800e-8bcfa8304bb6'}}"
      ]
     },
     "execution_count": 69,
     "metadata": {},
     "output_type": "execute_result"
    }
   ],
   "source": [
    "graph.update_state(thread, {\"regenerate_status\": \"no\"}, as_node=\"human_feedback\")"
   ]
  },
  {
   "cell_type": "code",
   "execution_count": 52,
   "metadata": {},
   "outputs": [
    {
     "name": "stdout",
     "output_type": "stream",
     "text": [
      "{'yt_url': 'https://www.youtube.com/watch?v=SmyPTnlqhlk', 'blog_title': '10 Mind-Boggling Algorithms That Rule the Digital World', 'blog_content': '# 10 Mind-Bending Algorithms That Changed the World: From Quantum Computing to Video Game Maps\\n\\nAlgorithms are the backbone of modern technology, making it possible to solve complex problems and create innovative solutions. From medical imaging to video game design, here are 10 mind-bending algorithms that have changed the world.\\n\\n## Wave Function Collapse\\n\\nWave Function Collapse is a fascinating algorithm that takes inspiration from quantum mechanics. It\\'s used in procedural content generation, particularly in creating endless maps for video games. The algorithm starts with an initial map, which can be seen as a superposition of all possibilities. As the game progresses, the map \"collapses\" into a more defined form, ensuring consistency and coherence. This process is similar to the concept of wave function collapse in quantum physics, where a particle\\'s state is determined upon observation.\\n\\n## Diffusion Models\\n\\nDiffusion models, originally developed at OpenAI, are at the heart of cutting-edge image generation tools like DALL-E and Stable Diffusion. These models are based on a thermodynamic concept where particles spread from areas of high concentration to low concentration. In AI, this process is reversed: the algorithm starts with random noise and gradually refines it into a structured image. After training on millions of labeled images, the diffusion model can generate new images that are both random and coherent, revolutionizing how we think about image and video generation.\\n\\n## Simulated Annealing\\n\\nSimulated Annealing is a powerful optimization algorithm inspired by the process of heating and cooling metals to remove defects. In computing, it helps find the optimal solution in a large solution space. The algorithm starts with a high \"temperature\" allowing for a wide exploration of possible solutions. As the \"temperature\" decreases, the algorithm narrows down to the best solution. This method is particularly useful in complex optimization problems, such as scheduling, logistics, and machine learning.\\n\\n## Sleep Sort\\n\\nSleep sort is a humorous yet ingenious sorting algorithm that relies on the CPU scheduler to do the heavy lifting. In this algorithm, each element of the array is assigned to a separate thread that sleeps for a duration proportional to the element\\'s value. Once all threads wake up, the elements are sorted based on their wake-up times. While not practical for real-world applications, sleep sort demonstrates the power of leveraging the underlying system\\'s capabilities in creative ways.\\n\\n## RSA Encryption\\n\\nRSA encryption is a cornerstone of modern cryptography, enabling secure communication over the internet. This public-key cryptography system relies on the difficulty of factoring large numbers into their prime components. While RSA has been the gold standard for encryption, the advent of quantum computing and algorithms like Shor\\'s algorithm pose a threat. Shor\\'s algorithm, which leverages quantum mechanics, can factor integers exponentially faster than classical algorithms, potentially rendering traditional encryption methods obsolete.\\n\\n## Boyd\\'s Flocking Algorithm\\n\\nBoyd\\'s Flocking Algorithm, developed in 1986, simulates the flocking behavior of birds. It operates on just three simple rules: avoid crowding, align with the flock\\'s average heading, and steer towards the center of mass of nearby flock mates. These simple rules create emergent patterns that mimic the complex behavior of flocks, demonstrating how simple rules can lead to complex and beautiful results. This algorithm has been widely applied in video games and simulations to create realistic group behaviors.\\n\\n## Quantum Bogo Sort\\n\\nQuantum Bogo Sort is a humorous concept that combines quantum computing with the infamous Bogo Sort. Bogo Sort, also known as \"monkey sort,\" randomly shuffles elements until they are in the correct order. Quantum Bogo Sort takes this to the multiverse scale: if there are multiple universes, one of them must have the array sorted. By randomly observing different universes, it can find the sorted array. While purely theoretical, it highlights the bizarre and fascinating implications of quantum mechanics in computing.\\n\\n## Marching Cubes Algorithm\\n\\nThe Marching Cubes Algorithm, developed in 1987, is a 3D surface reconstruction technique used in medical imaging. It converts 3D scalar field data, such as CT or MRI scans, into a polygonal mesh. The algorithm iterates through the data, creating a 3D mesh that accurately represents the scanned object. This was a groundbreaking technique that allowed doctors and researchers to visualize complex 3D data in real-time, improving medical diagnostics and treatment planning.\\n\\n## Byzantine Fault Tolerance (PBFT)\\n\\nByzantine Fault Tolerance (PBFT) is an algorithm designed to maintain consistency in distributed systems, even when some nodes fail or act maliciously. This is crucial for blockchain technology and distributed databases. The algorithm works by broadcasting messages and achieving consensus through a series of steps: pre-prepare, prepare, commit. PBFT ensures that the system remains functional even if up to one-third of the nodes are compromised, making it a cornerstone of secure distributed computing.\\n\\n## Boyer–Moore String Search\\n\\nBoyer–Moore String Search is an efficient string searching algorithm that works by skipping sections of the search string that do not need to be checked. It uses two heuristics: the bad character rule and the good suffix rule, which allow it to skip large chunks of text. The more the text grows, the faster the algorithm becomes, making it highly efficient for large datasets. This is why tools like `grep` are so fast—thanks to the Boyer–Moore algorithm, they can efficiently search through massive amounts of data.\\n\\nThese algorithms, from the whimsical to the groundbreaking, showcase the incredible range and power of computational problem-solving. Whether it\\'s creating virtual worlds, securing data, or even simulating the behavior of birds, these algorithms have transformed the way we interact with technology and understand the world around us.', 'regenerate_status': 'no', 'message': [SystemMessage(content='Transcript fetched successfully.', additional_kwargs={}, response_metadata={}, id='08f3badd-5966-466e-a605-951415c5e5f8'), SystemMessage(content='Blog title generated: 10 Mind-Boggling Algorithms That Changed the World: From Quantum Computing to Video Game Maps', additional_kwargs={}, response_metadata={}, id='6f063535-e457-4d6a-a2c7-070f042e32af'), SystemMessage(content='Blog content generated successfully.', additional_kwargs={}, response_metadata={}, id='55e9499b-4872-4506-b58a-c752b07fc6ff'), SystemMessage(content='Transcript fetched successfully.', additional_kwargs={}, response_metadata={}, id='0130a0af-a266-42c7-bbd1-be256323fac2'), SystemMessage(content='Blog title generated: 10 Mind-Boggling Algorithms That Changed the World: From Quantum Computing to Video Game Maps', additional_kwargs={}, response_metadata={}, id='ae924607-ea29-4491-b603-aa799c02c97e'), SystemMessage(content='Blog content generated successfully.', additional_kwargs={}, response_metadata={}, id='95d3eae0-4a9d-447f-9164-eb1c2b3a96c6'), SystemMessage(content='Transcript fetched successfully.', additional_kwargs={}, response_metadata={}, id='99d0818e-e1d2-4b29-921c-a0dab254efe6'), SystemMessage(content='Blog title generated: 10 Mind-Bending Algorithms That Changed the World: From Quantum Computing to Video Game Maps', additional_kwargs={}, response_metadata={}, id='a4a1bc16-f3bf-456b-879b-817ea94e5105'), SystemMessage(content='Blog content generated successfully.', additional_kwargs={}, response_metadata={}, id='574d57b2-a2ce-43c7-b421-1d534687013b'), SystemMessage(content='Blog title and content regenerated on the users request.', additional_kwargs={}, response_metadata={}, id='f166ed9b-f035-438b-9bba-4b6bcb8ff930')]}\n"
     ]
    }
   ],
   "source": [
    "for event in graph.stream(None,thread, stream_mode=\"values\"):\n",
    "    print(event)"
   ]
  },
  {
   "cell_type": "code",
   "execution_count": null,
   "metadata": {},
   "outputs": [],
   "source": []
  }
 ],
 "metadata": {
  "kernelspec": {
   "display_name": "Python 3",
   "language": "python",
   "name": "python3"
  },
  "language_info": {
   "codemirror_mode": {
    "name": "ipython",
    "version": 3
   },
   "file_extension": ".py",
   "mimetype": "text/x-python",
   "name": "python",
   "nbconvert_exporter": "python",
   "pygments_lexer": "ipython3",
   "version": "3.12.8"
  }
 },
 "nbformat": 4,
 "nbformat_minor": 2
}
