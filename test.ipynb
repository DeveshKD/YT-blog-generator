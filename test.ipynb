{
 "cells": [
  {
   "cell_type": "code",
   "execution_count": 1,
   "metadata": {},
   "outputs": [],
   "source": [
    "from typing import TypedDict, Optional, List, Callable, Dict, Any, Literal\n",
    "from typing_extensions import Annotated\n",
    "import os\n",
    "from langchain_core.messages import AnyMessage, SystemMessage, HumanMessage\n",
    "from langchain_groq import ChatGroq\n",
    "from langgraph.checkpoint.memory import MemorySaver\n",
    "from youtube_transcript_api import YouTubeTranscriptApi\n",
    "from langgraph.graph import StateGraph, add_messages\n",
    "from dotenv import load_dotenv\n",
    "from IPython.display import Image, display\n",
    "from langgraph.graph import START, END"
   ]
  },
  {
   "cell_type": "code",
   "execution_count": 2,
   "metadata": {},
   "outputs": [],
   "source": [
    "load_dotenv()\n",
    "os.environ[\"GROQ_API_KEY\"]=os.getenv(\"GROQ_API_KEY\")"
   ]
  },
  {
   "cell_type": "code",
   "execution_count": 3,
   "metadata": {},
   "outputs": [],
   "source": [
    "class BlogGenState(TypedDict):\n",
    "    yt_url: Optional[str]\n",
    "    transcript: Optional[str]\n",
    "    blog_title: Optional[str]\n",
    "    blog_content: Optional[str]\n",
    "    regenerate_status: Optional[str]\n",
    "    feedback : Optional[str]\n",
    "    message: Annotated[list[AnyMessage], add_messages]"
   ]
  },
  {
   "cell_type": "code",
   "execution_count": 4,
   "metadata": {},
   "outputs": [],
   "source": [
    "class Agents:\n",
    "    def __init__(self):\n",
    "        self.llm = ChatGroq(model=\"qwen-2.5-32b\")\n",
    "    def generate_blog(self, state: BlogGenState) -> BlogGenState:\n",
    "        \"\"\"\n",
    "        Generates a title and content for the blog based on the transcript.\n",
    "        \n",
    "        Args:\n",
    "            state: The current state of the workflow\n",
    "            \n",
    "        Returns:\n",
    "            Updated state with blog title and content\n",
    "        \"\"\"\n",
    "        transcript = state.get(\"transcript\")\n",
    "        if transcript is None:\n",
    "            video_id = state[\"yt_url\"].split(\"v=\")[-1].split(\"&\")[0]\n",
    "            transcript_list = YouTubeTranscriptApi.get_transcript(video_id)\n",
    "            full_transcript = \" \".join([entry['text'] for entry in transcript_list])\n",
    "            state[\"transcript\"] = full_transcript\n",
    "        regen_status = state.get(\"regenerate_status\")\n",
    "        if regen_status == \"yes\":\n",
    "            content_regenerate_prompt = [\n",
    "                SystemMessage(content=f\"The user has chosen to regenerate the blog content. Please provide new content for the blog post based on the transcript and the given feedback: \\n {state['feedback']}\\n. PREVIOUS INSTRUCTIONS: You are an expert in generating content for BLOG posts based on the transcripts of YouTube videos. IMPORTANT: YOU SIMPLY ONLY CREATE CONTENT FOR THE BLOG. THE TITLE IS ALREADY PROVIDED. Output format: Simply output the content in markdown format with appropriate headings, paragraphs, and formatting.\"),\n",
    "                HumanMessage(content=f\"Generate blog content for the title '{state['blog_title']}' based on the following transcript: {state['transcript']}\")\n",
    "            ]\n",
    "            regenerated_content = self.llm.invoke(content_regenerate_prompt).content.strip()\n",
    "\n",
    "            return {\n",
    "                \"blog_content\": regenerated_content,\n",
    "                \"message\": state[\"message\"] + [\n",
    "                    SystemMessage(content=f\"Blog title and content regenerated on the users request.\")\n",
    "                ]\n",
    "            }\n",
    "\n",
    "        title_prompt = [\n",
    "            SystemMessage(content=\"You are an expert in generating titles for BLOG posts based on the transcripts of YouTube videos. IMPORTANT: YOU SIMPLY ONLY CREATE TITLES FOR THE BLOG. NO EXPLANATION IS REQUIRED.\"),\n",
    "            HumanMessage(content=f\"Generate a good blog title for a video with the following transcript: {state['transcript']}\")\n",
    "        ]\n",
    "        blog_title = self.llm.invoke(title_prompt).content.strip()\n",
    "\n",
    "        content_prompt = [\n",
    "            SystemMessage(content=\"\"\"You are an expert in generating content for BLOG posts based on the transcripts of YouTube videos. \n",
    "            IMPORTANT: YOU SIMPLY ONLY CREATE CONTENT FOR THE BLOG. THE TITLE IS ALREADY PROVIDED. \n",
    "            Output format: Simply output the content in markdown format with appropriate headings, paragraphs, and formatting.\"\"\"),\n",
    "            HumanMessage(content=f\"Generate blog content for the title '{blog_title}' based on the following transcript: {state['transcript']}\")\n",
    "        ]\n",
    "        blog_content = self.llm.invoke(content_prompt).content.strip()\n",
    "\n",
    "        return {\n",
    "            \"blog_title\": blog_title,\n",
    "            \"blog_content\": blog_content,\n",
    "            \"message\": state[\"message\"] + [\n",
    "                SystemMessage(content=\"Transcript fetched successfully.\"),\n",
    "                SystemMessage(content=f\"Blog title generated: {blog_title}\"),\n",
    "                SystemMessage(content=\"Blog content generated successfully.\")\n",
    "            ]\n",
    "        }\n",
    "    def human_feedback(self, state: BlogGenState) -> BlogGenState:\n",
    "        \"\"\"Just an empty to update the feedback param\"\"\"\n",
    "        return state"
   ]
  },
  {
   "cell_type": "code",
   "execution_count": 5,
   "metadata": {},
   "outputs": [],
   "source": [
    "class BlogGenGraph:\n",
    "    def __init__(self):\n",
    "        self.agents = Agents()\n",
    "    def regenerate_condition_or_not(self, state: BlogGenState) -> Literal[\"regenerate\",\"end\"]:\n",
    "        if state[\"regenerate_status\"] == \"yes\":\n",
    "            return \"regenerate\"\n",
    "        else:    \n",
    "            return \"end\" \n",
    "    def create_graph(self):\n",
    "        graph_builder = StateGraph(BlogGenState)\n",
    "        graph_builder.add_node(\"generate_blog_with_title\",self.agents.generate_blog)\n",
    "        graph_builder.add_node(\"human_feedback\",self.agents.human_feedback)\n",
    "        graph_builder.add_edge(\"generate_blog_with_title\",\"human_feedback\")\n",
    "        graph_builder.add_conditional_edges(\"human_feedback\",self.regenerate_condition_or_not, {\"regenerate\": \"generate_blog_with_title\", \"end\": END})\n",
    "\n",
    "        graph_builder.set_entry_point(\"generate_blog_with_title\")\n",
    "\n",
    "        memory = MemorySaver()\n",
    "        graph = graph_builder.compile(checkpointer=memory, interrupt_before=[\"human_feedback\"])\n",
    "        return graph"
   ]
  },
  {
   "cell_type": "code",
   "execution_count": 7,
   "metadata": {},
   "outputs": [
    {
     "data": {
      "image/png": "[encoded data removed]",
      "text/plain": [
       "<IPython.core.display.Image object>"
      ]
     },
     "metadata": {},
     "output_type": "display_data"
    }
   ],
   "source": [
    "graph = BlogGenGraph().create_graph()\n",
    "display(Image(graph.get_graph(xray=1).draw_mermaid_png()))"
   ]
  },
  {
   "cell_type": "code",
   "execution_count": 8,
   "metadata": {},
   "outputs": [],
   "source": [
    "youtubelink = \"https://www.youtube.com/watch?v=SmyPTnlqhlk\"\n",
    "thread = {\"configurable\": {\"thread_id\": \"1\"}}"
   ]
  },
  {
   "cell_type": "code",
   "execution_count": 9,
   "metadata": {},
   "outputs": [
    {
     "name": "stdout",
     "output_type": "stream",
     "text": [
      "None\n",
      "# 10 Mind-Bending Algorithms That Changed the World: From Quantum Computing to Game Development\n",
      "\n",
      "Have you ever woken up in the middle of the night in a panic, wondering how to extract a polygonal mesh from an ISO surface in a 3D discrete scalar field? Probably not, but in 1987, two programmers did just that. They created and patented the Marching Cubes algorithm, which has since been pivotal in medical imaging, allowing doctors to visualize data from CT and MRI scans.\n",
      "\n",
      "## The Marching Cubes Algorithm\n",
      "\n",
      "The Marching Cubes algorithm starts with a 3D scalar field, often representing data from an MRI machine. Each point in the 3D space is represented by a single number, or scalar. The algorithm begins with a single point and then takes its eight neighboring locations to form an imaginary cube. The values at these points are treated as bits in an 8-bit integer, resulting in 256 different possibilities, which point to a pre-calculated array of polygons. The algorithm then marches through each point to create a 3D mesh that can be used in 3D software. This method transformed how we visualize medical data, bringing 3D imaging to life.\n",
      "\n",
      "## Wave Function Collapse\n",
      "\n",
      "### The Weird and Practical\n",
      "\n",
      "Wave function collapse is a fascinating concept that originates from quantum mechanics. However, it's also a practical algorithm used for procedural content generation in video games. In a video game, this algorithm can generate infinite maps by starting with an initial map as a superposition of all possibilities. Upon observation, it collapses into a random yet cohesive result, adhering to a set of rules, such as ensuring roads are always connected. This algorithm is a prime example of how philosophical concepts can be applied in practical, real-world scenarios.\n",
      "\n",
      "## Diffusion Algorithm\n",
      "\n",
      "### From Noise to Structure\n",
      "\n",
      "Diffusion algorithms are used in machine learning to generate images, like those seen in DALL-E and Stable Diffusion. The algorithm starts with random noise, akin to high entropy, and gradually refines it into a structured image, reducing entropy. This process involves two phases: the forward phase adds noise to the image step by step until it becomes random, and the second phase reconstructs it into a coherent image. Training a model with millions of labeled images enables the creation of new images out of thin air.\n",
      "\n",
      "## Simulated Annealing\n",
      "\n",
      "### Optimization and Exploration\n",
      "\n",
      "Simulated annealing is an optimization algorithm that mimics the process of heating and cooling metals to remove defects. In programming, it helps find the best solution among many possible solutions. Initially, the algorithm allows for a broad exploration of possible solutions. Over time, the temperature is lowered, reducing the probability of accepting worse solutions. This process balances exploration with exploitation, making it a valuable tool for beginners learning to code.\n",
      "\n",
      "## Sleep Sort and Quantum BOGO Sort\n",
      "\n",
      "### Unconventional Sorting Techniques\n",
      "\n",
      "Sorting algorithms are ubiquitous in computing. One of the most unconventional is Sleep Sort, which takes a unique approach to sorting numbers by delegating the task to the CPU scheduler. It's simple yet incredibly inefficient, making it more of a curiosity than a practical solution. Another quirky algorithm is BOGO sort, which randomly shuffles and checks an array until it's sorted. The quantum version, Quantum BOGO sort, takes this to the realm of quantum mechanics, suggesting that in a multiverse, some version of the array is sorted, allowing us to jump to that universe. While purely hypothetical, it's an interesting thought experiment.\n",
      "\n",
      "## RSA and Quantum Computing\n",
      "\n",
      "### Securing the Digital World\n",
      "\n",
      "RSA is a public key cryptosystem used for securing digital communications. It leverages the difficulty of factoring large numbers to ensure digital security. However, with the rise of quantum computing, algorithms like Shor's algorithm pose a threat. Shor's algorithm can solve the integer factorization problem exponentially faster than classical algorithms. Although current quantum computers can only factor small numbers (like 21), with some attempts at 35), the potential for quantum computers to break RSA encryption is a looming concern for cybersecurity.\n",
      "\n",
      "## Byzantine Generals Problem and PBFT\n",
      "\n",
      "### Distributed Systems and Consensus\n",
      "\n",
      "In distributed systems, the Byzantine Generals Problem poses a significant challenge. This problem is about ensuring consistency and reliability in a distributed network, even if some nodes fail or are infiltrated by hackers. Algorithms like Practical Byzantine Fault Tolerance (PBFT) help maintain a consistent state across a network by ensuring that enough nodes agree on a particular action. This is crucial for blockchain technology and distributed cloud databases.\n",
      "\n",
      "## Boids: Simulating Flocking Behavior\n",
      "\n",
      "### Nature in Code\n",
      "\n",
      "Boids is an artificial life program created in 1986 that simulates the flocking behavior of birds. The program uses three simple rules: birds steer to avoid crowding, they steer towards the average heading of the flock, and they steer towards the center of mass of their local flock mates. The result is a complex, emergent behavior that isn't explicitly programmed but arises naturally from the interaction of the rules.\n",
      "\n",
      "## Boyer-Moore String Search\n",
      "\n",
      "### Fast Searching\n",
      "\n",
      "Lastly, the Boyer-Moore string search algorithm is another mind-bending algorithm. It's designed to be faster and more efficient as the string it's searching becomes bigger. This is achieved by scanning the text from right to left and using two pre-processed tables to skip over chunks of the text, making it highly efficient for large data sets. This algorithm is the backbone of tools like grep and explains their speedy performance.\n",
      "\n",
      "### Conclusion\n",
      "\n",
      "These algorithms, from the mind-bending to the highly practical, have revolutionized fields as diverse as medical imaging, artificial life, and cybersecurity. As technology progresses, these algorithms will continue to play a crucial role in shaping our digital and physical worlds.\n"
     ]
    }
   ],
   "source": [
    "for event in graph.stream({\"yt_url\": youtubelink},thread, stream_mode=\"values\"):\n",
    "    content = event.get(\"blog_content\")\n",
    "    print(content)"
   ]
  },
  {
   "cell_type": "code",
   "execution_count": 10,
   "metadata": {},
   "outputs": [
    {
     "data": {
      "text/plain": [
       "('human_feedback',)"
      ]
     },
     "execution_count": 10,
     "metadata": {},
     "output_type": "execute_result"
    }
   ],
   "source": [
    "graph.get_state(thread).next"
   ]
  },
  {
   "cell_type": "code",
   "execution_count": 11,
   "metadata": {},
   "outputs": [],
   "source": [
    "human_feedback = \"Add a more funny tone to the blog post.\""
   ]
  },
  {
   "cell_type": "code",
   "execution_count": 12,
   "metadata": {},
   "outputs": [
    {
     "data": {
      "text/plain": [
       "{'configurable': {'thread_id': '1',\n",
       "  'checkpoint_ns': '',\n",
       "  'checkpoint_id': '1effa7ce-b2e2-6fa8-8002-053a8fb72446'}}"
      ]
     },
     "execution_count": 12,
     "metadata": {},
     "output_type": "execute_result"
    }
   ],
   "source": [
    "graph.update_state(thread, {\"regenerate_status\": \"yes\", \"feedback\":human_feedback}, as_node=\"human_feedback\")"
   ]
  },
  {
   "cell_type": "code",
   "execution_count": 13,
   "metadata": {},
   "outputs": [
    {
     "name": "stdout",
     "output_type": "stream",
     "text": [
      "{'yt_url': 'https://www.youtube.com/watch?v=SmyPTnlqhlk', 'blog_title': '10 Mind-Bending Algorithms That Changed the World: From Quantum Computing to Game Development', 'blog_content': \"# 10 Mind-Bending Algorithms That Changed the World: From Quantum Computing to Game Development\\n\\nHave you ever woken up in the middle of the night in a panic, wondering how to extract a polygonal mesh from an ISO surface in a 3D discrete scalar field? Probably not, but in 1987, two programmers did just that. They created and patented the Marching Cubes algorithm, which has since been pivotal in medical imaging, allowing doctors to visualize data from CT and MRI scans.\\n\\n## The Marching Cubes Algorithm\\n\\nThe Marching Cubes algorithm starts with a 3D scalar field, often representing data from an MRI machine. Each point in the 3D space is represented by a single number, or scalar. The algorithm begins with a single point and then takes its eight neighboring locations to form an imaginary cube. The values at these points are treated as bits in an 8-bit integer, resulting in 256 different possibilities, which point to a pre-calculated array of polygons. The algorithm then marches through each point to create a 3D mesh that can be used in 3D software. This method transformed how we visualize medical data, bringing 3D imaging to life.\\n\\n## Wave Function Collapse\\n\\n### The Weird and Practical\\n\\nWave function collapse is a fascinating concept that originates from quantum mechanics. However, it's also a practical algorithm used for procedural content generation in video games. In a video game, this algorithm can generate infinite maps by starting with an initial map as a superposition of all possibilities. Upon observation, it collapses into a random yet cohesive result, adhering to a set of rules, such as ensuring roads are always connected. This algorithm is a prime example of how philosophical concepts can be applied in practical, real-world scenarios.\\n\\n## Diffusion Algorithm\\n\\n### From Noise to Structure\\n\\nDiffusion algorithms are used in machine learning to generate images, like those seen in DALL-E and Stable Diffusion. The algorithm starts with random noise, akin to high entropy, and gradually refines it into a structured image, reducing entropy. This process involves two phases: the forward phase adds noise to the image step by step until it becomes random, and the second phase reconstructs it into a coherent image. Training a model with millions of labeled images enables the creation of new images out of thin air.\\n\\n## Simulated Annealing\\n\\n### Optimization and Exploration\\n\\nSimulated annealing is an optimization algorithm that mimics the process of heating and cooling metals to remove defects. In programming, it helps find the best solution among many possible solutions. Initially, the algorithm allows for a broad exploration of possible solutions. Over time, the temperature is lowered, reducing the probability of accepting worse solutions. This process balances exploration with exploitation, making it a valuable tool for beginners learning to code.\\n\\n## Sleep Sort and Quantum BOGO Sort\\n\\n### Unconventional Sorting Techniques\\n\\nSorting algorithms are ubiquitous in computing. One of the most unconventional is Sleep Sort, which takes a unique approach to sorting numbers by delegating the task to the CPU scheduler. It's simple yet incredibly inefficient, making it more of a curiosity than a practical solution. Another quirky algorithm is BOGO sort, which randomly shuffles and checks an array until it's sorted. The quantum version, Quantum BOGO sort, takes this to the realm of quantum mechanics, suggesting that in a multiverse, some version of the array is sorted, allowing us to jump to that universe. While purely hypothetical, it's an interesting thought experiment.\\n\\n## RSA and Quantum Computing\\n\\n### Securing the Digital World\\n\\nRSA is a public key cryptosystem used for securing digital communications. It leverages the difficulty of factoring large numbers to ensure digital security. However, with the rise of quantum computing, algorithms like Shor's algorithm pose a threat. Shor's algorithm can solve the integer factorization problem exponentially faster than classical algorithms. Although current quantum computers can only factor small numbers (like 21), with some attempts at 35), the potential for quantum computers to break RSA encryption is a looming concern for cybersecurity.\\n\\n## Byzantine Generals Problem and PBFT\\n\\n### Distributed Systems and Consensus\\n\\nIn distributed systems, the Byzantine Generals Problem poses a significant challenge. This problem is about ensuring consistency and reliability in a distributed network, even if some nodes fail or are infiltrated by hackers. Algorithms like Practical Byzantine Fault Tolerance (PBFT) help maintain a consistent state across a network by ensuring that enough nodes agree on a particular action. This is crucial for blockchain technology and distributed cloud databases.\\n\\n## Boids: Simulating Flocking Behavior\\n\\n### Nature in Code\\n\\nBoids is an artificial life program created in 1986 that simulates the flocking behavior of birds. The program uses three simple rules: birds steer to avoid crowding, they steer towards the average heading of the flock, and they steer towards the center of mass of their local flock mates. The result is a complex, emergent behavior that isn't explicitly programmed but arises naturally from the interaction of the rules.\\n\\n## Boyer-Moore String Search\\n\\n### Fast Searching\\n\\nLastly, the Boyer-Moore string search algorithm is another mind-bending algorithm. It's designed to be faster and more efficient as the string it's searching becomes bigger. This is achieved by scanning the text from right to left and using two pre-processed tables to skip over chunks of the text, making it highly efficient for large data sets. This algorithm is the backbone of tools like grep and explains their speedy performance.\\n\\n### Conclusion\\n\\nThese algorithms, from the mind-bending to the highly practical, have revolutionized fields as diverse as medical imaging, artificial life, and cybersecurity. As technology progresses, these algorithms will continue to play a crucial role in shaping our digital and physical worlds.\", 'regenerate_status': 'yes', 'feedback': 'Add a more funny tone to the blog post.', 'message': [SystemMessage(content='Transcript fetched successfully.', additional_kwargs={}, response_metadata={}, id='6990d291-084b-46ad-a918-2b0c724b4261'), SystemMessage(content='Blog title generated: 10 Mind-Bending Algorithms That Changed the World: From Quantum Computing to Game Development', additional_kwargs={}, response_metadata={}, id='4a394435-f636-48ef-a8fb-c3bc868fc650'), SystemMessage(content='Blog content generated successfully.', additional_kwargs={}, response_metadata={}, id='45da4305-6a85-46ec-97b6-3eaa972c1245')]}\n",
      "{'yt_url': 'https://www.youtube.com/watch?v=SmyPTnlqhlk', 'blog_title': '10 Mind-Bending Algorithms That Changed the World: From Quantum Computing to Game Development', 'blog_content': '# 10 Mind-Bending Algorithms That Changed the World: From Quantum Computing to Game Development\\n\\n## Wake Up Call from the Algorithm Gods\\n\\nHave you ever woken up in the middle of the night in a cold sweat, wondering how to extract a polygonal mesh of an ISO surface from a three-dimensional discrete scalar field? No? Well, in 1987, two programmers at General Electric were up late and thought, \"Why not?\" They created and patented the **Marching Cubes Algorithm**, which has since saved countless lives by allowing doctors to visualize data from CT and MRI scans. So, while you were sleeping, they were saving lives. Snore.\\n\\n## Wave Function Collapse: The Quantum of Gaming\\n\\nEver wondered why the generated maps in your favorite video games look so darn random yet cohesive? Enter the **Wave Function Collapse (WFC)** algorithm. It’s based on the idea that a map can start as a wave of possibilities, and as the game generates the map, the wave collapses into a specific map configuration. It’s like having a map that was born from quantum mechanics, but without the existential dread. This algorithm is so cool, you might start to question whether we\\'re living in a simulation just to cut down on the universe\\'s AWS bill.\\n\\n## Diffusion: The AI’s Alchemy\\n\\nImagine if you could turn random noise into a beautiful image. That’s exactly what the **Diffusion Algorithm** does. Originally developed at OpenAI, it’s the magic behind image generators like Dolly and Stable Diffusion. Think of it as a reverse thermodynamics process where the initial image is pure noise (high entropy), and the algorithm refines it step by step into a structured image (low entropy). It\\'s like turning chaos into order with a sprinkle of AI pixie dust. \\n\\n## Simulated Annealing: The Lazy Programmer’s Dream\\n\\nIf you’ve ever tried to organize a messy room, you know that sometimes you just need to explore before settling on the best arrangement. This is the essence of the **Simulated Annealing Algorithm**. It\\'s like starting with a hot mess and gradually cooling down to find the optimal organization. For beginners, it’s a fantastic way to explore different coding techniques and eventually specialize in one. It\\'s like going on a coding treasure hunt where the treasure is... well, usually it\\'s just a bit of sanity.\\n\\n## Sleep Sort: The Laziest Sorting Algorithm\\n\\nMost sorting algorithms are all about efficiency and speed, but not the **Sleep Sort Algorithm**. In Bash, it’s incredibly simple: loop over the array, sleep for a duration proportional to the value of each element, and then print the element. It’s like delegating the sorting task to the CPU scheduler. It’s ingenious and useless all at once. Because, you know, the CPU scheduler is just dying to do your sorting for you.\\n\\n## Bogo Sort: The Silly Sort\\n\\nIf Sleep Sort is the laziest, then **Bogo Sort** is the silliest. It’s like playing the lottery with your array. You shuffle the elements randomly and check if they’re sorted. Repeat until you win the lottery of sorted arrays. It’s the digital equivalent of tossing a deck of cards in the air and hoping for a perfect order. It’s a good one to keep in your back pocket when you need a good laugh.\\n\\n## Quantum Bogo Sort: The Multiverse’s Dumbest Genius\\n\\nWhat if we took Bogo Sort and threw it into the multiverse? Enter **Quantum Bogo Sort**. If we assume that all possible universes exist, there must be one where your unsorted array is sorted. Theoretically, you could use quantum mechanics to find that universe, travel there, and copy the sorted array. Except, you’d have to kill your other self in that universe. Worth it? Probably not, but it’s a fun thought experiment.\\n\\n## RSA and Shor\\'s Algorithm: The Future of Cryptography\\n\\nRSA, the granddaddy of public key cryptography, relies on the difficulty of factoring large numbers. However, quantum computing’s **Shor’s Algorithm** could change the game. While Shor’s has only factored the number 21 so far, it’s a threat to RSA’s dominance. Imagine a future where quantum computers can break encryption faster than you can say \"Quantum Computing.\" It’s like having a supercomputer with a portal to the future of cyber security. And no, it’s not time to panic... yet.\\n\\n## Marching Cubes: The 3D Visualization Hero\\n\\nAlright, let’s revisit the **Marching Cubes Algorithm**. This algorithm starts with a 3D scalar field (like MRI data) and turns it into a 3D mesh. It’s like turning a bunch of numbers into a 3D model of your brain. When it was introduced, it was groundbreaking. Today, it’s more like the unsung hero of modern 3D medical imaging, quietly making sure your doctor’s not just staring at a 2D slice of your head.\\n\\n## Byzantine Generals: The Consensus Algorithm\\n\\nPicture yourself as a Byzantine General planning an attack on a city. You need to make sure all generals agree on the attack plan without any traitors messing things up. This is the **Byzantine Generals Problem**, and algorithms like PBFT (Practical Byzantine Fault Tolerance) solve it. In the digital world, it’s like making sure your distributed systems stay in sync even when some nodes are drunk or hacked. It’s essential for things like blockchain and distributed databases. It’s like a virtual \"agree to disagree\" but in a way that actually works.\\n\\n## BOID: The Digital Flock\\n\\nLast but not least, **BOID (Boids)** is an algorithm that simulates flocking behavior in birds. It’s based on just a few simple rules, but the emergent complexity is magical. Imagine a bunch of birds following basic rules, and suddenly, they form intricate patterns that look like they were choreographed by some great bird choreographer. It’s like watching chaos theory in action but with a side of nature. Nature, in this case, is actually a computer program that’s just a bit smarter than you thought.\\n\\n---\\n\\nSo, the next time you find yourself wondering if your array is sorted or if your map is generated, remember these 10 algorithms. They might be solving problems you didn’t even know you had. Or, at the very least, they’re making the world a bit more orderly (and a bit more chaotic at the same time). But hey, that’s the beauty of algorithms—they’re the chaos and order of the digital world.', 'regenerate_status': 'yes', 'feedback': 'Add a more funny tone to the blog post.', 'message': [SystemMessage(content='Transcript fetched successfully.', additional_kwargs={}, response_metadata={}, id='6990d291-084b-46ad-a918-2b0c724b4261'), SystemMessage(content='Blog title generated: 10 Mind-Bending Algorithms That Changed the World: From Quantum Computing to Game Development', additional_kwargs={}, response_metadata={}, id='4a394435-f636-48ef-a8fb-c3bc868fc650'), SystemMessage(content='Blog content generated successfully.', additional_kwargs={}, response_metadata={}, id='45da4305-6a85-46ec-97b6-3eaa972c1245'), SystemMessage(content='Blog title and content regenerated on the users request.', additional_kwargs={}, response_metadata={}, id='fad18440-ad74-4bf2-897e-1c9e6de12e78')]}\n"
     ]
    }
   ],
   "source": [
    "for event in graph.stream(None,thread, stream_mode=\"values\"):\n",
    "    print(event)"
   ]
  },
  {
   "cell_type": "code",
   "execution_count": 14,
   "metadata": {},
   "outputs": [
    {
     "data": {
      "text/plain": [
       "('human_feedback',)"
      ]
     },
     "execution_count": 14,
     "metadata": {},
     "output_type": "execute_result"
    }
   ],
   "source": [
    "graph.get_state(thread).next"
   ]
  },
  {
   "cell_type": "code",
   "execution_count": 15,
   "metadata": {},
   "outputs": [
    {
     "data": {
      "text/plain": [
       "{'configurable': {'thread_id': '1',\n",
       "  'checkpoint_ns': '',\n",
       "  'checkpoint_id': '1effa7d5-8797-68a2-8004-6457ad75c2a8'}}"
      ]
     },
     "execution_count": 15,
     "metadata": {},
     "output_type": "execute_result"
    }
   ],
   "source": [
    "graph.update_state(thread, {\"regenerate_status\": \"no\"}, as_node=\"human_feedback\")"
   ]
  },
  {
   "cell_type": "code",
   "execution_count": 16,
   "metadata": {},
   "outputs": [
    {
     "name": "stdout",
     "output_type": "stream",
     "text": [
      "# 10 Mind-Bending Algorithms That Changed the World: From Quantum Computing to Game Development\n",
      "\n",
      "## Wake Up Call from the Algorithm Gods\n",
      "\n",
      "Have you ever woken up in the middle of the night in a cold sweat, wondering how to extract a polygonal mesh of an ISO surface from a three-dimensional discrete scalar field? No? Well, in 1987, two programmers at General Electric were up late and thought, \"Why not?\" They created and patented the **Marching Cubes Algorithm**, which has since saved countless lives by allowing doctors to visualize data from CT and MRI scans. So, while you were sleeping, they were saving lives. Snore.\n",
      "\n",
      "## Wave Function Collapse: The Quantum of Gaming\n",
      "\n",
      "Ever wondered why the generated maps in your favorite video games look so darn random yet cohesive? Enter the **Wave Function Collapse (WFC)** algorithm. It’s based on the idea that a map can start as a wave of possibilities, and as the game generates the map, the wave collapses into a specific map configuration. It’s like having a map that was born from quantum mechanics, but without the existential dread. This algorithm is so cool, you might start to question whether we're living in a simulation just to cut down on the universe's AWS bill.\n",
      "\n",
      "## Diffusion: The AI’s Alchemy\n",
      "\n",
      "Imagine if you could turn random noise into a beautiful image. That’s exactly what the **Diffusion Algorithm** does. Originally developed at OpenAI, it’s the magic behind image generators like Dolly and Stable Diffusion. Think of it as a reverse thermodynamics process where the initial image is pure noise (high entropy), and the algorithm refines it step by step into a structured image (low entropy). It's like turning chaos into order with a sprinkle of AI pixie dust. \n",
      "\n",
      "## Simulated Annealing: The Lazy Programmer’s Dream\n",
      "\n",
      "If you’ve ever tried to organize a messy room, you know that sometimes you just need to explore before settling on the best arrangement. This is the essence of the **Simulated Annealing Algorithm**. It's like starting with a hot mess and gradually cooling down to find the optimal organization. For beginners, it’s a fantastic way to explore different coding techniques and eventually specialize in one. It's like going on a coding treasure hunt where the treasure is... well, usually it's just a bit of sanity.\n",
      "\n",
      "## Sleep Sort: The Laziest Sorting Algorithm\n",
      "\n",
      "Most sorting algorithms are all about efficiency and speed, but not the **Sleep Sort Algorithm**. In Bash, it’s incredibly simple: loop over the array, sleep for a duration proportional to the value of each element, and then print the element. It’s like delegating the sorting task to the CPU scheduler. It’s ingenious and useless all at once. Because, you know, the CPU scheduler is just dying to do your sorting for you.\n",
      "\n",
      "## Bogo Sort: The Silly Sort\n",
      "\n",
      "If Sleep Sort is the laziest, then **Bogo Sort** is the silliest. It’s like playing the lottery with your array. You shuffle the elements randomly and check if they’re sorted. Repeat until you win the lottery of sorted arrays. It’s the digital equivalent of tossing a deck of cards in the air and hoping for a perfect order. It’s a good one to keep in your back pocket when you need a good laugh.\n",
      "\n",
      "## Quantum Bogo Sort: The Multiverse’s Dumbest Genius\n",
      "\n",
      "What if we took Bogo Sort and threw it into the multiverse? Enter **Quantum Bogo Sort**. If we assume that all possible universes exist, there must be one where your unsorted array is sorted. Theoretically, you could use quantum mechanics to find that universe, travel there, and copy the sorted array. Except, you’d have to kill your other self in that universe. Worth it? Probably not, but it’s a fun thought experiment.\n",
      "\n",
      "## RSA and Shor's Algorithm: The Future of Cryptography\n",
      "\n",
      "RSA, the granddaddy of public key cryptography, relies on the difficulty of factoring large numbers. However, quantum computing’s **Shor’s Algorithm** could change the game. While Shor’s has only factored the number 21 so far, it’s a threat to RSA’s dominance. Imagine a future where quantum computers can break encryption faster than you can say \"Quantum Computing.\" It’s like having a supercomputer with a portal to the future of cyber security. And no, it’s not time to panic... yet.\n",
      "\n",
      "## Marching Cubes: The 3D Visualization Hero\n",
      "\n",
      "Alright, let’s revisit the **Marching Cubes Algorithm**. This algorithm starts with a 3D scalar field (like MRI data) and turns it into a 3D mesh. It’s like turning a bunch of numbers into a 3D model of your brain. When it was introduced, it was groundbreaking. Today, it’s more like the unsung hero of modern 3D medical imaging, quietly making sure your doctor’s not just staring at a 2D slice of your head.\n",
      "\n",
      "## Byzantine Generals: The Consensus Algorithm\n",
      "\n",
      "Picture yourself as a Byzantine General planning an attack on a city. You need to make sure all generals agree on the attack plan without any traitors messing things up. This is the **Byzantine Generals Problem**, and algorithms like PBFT (Practical Byzantine Fault Tolerance) solve it. In the digital world, it’s like making sure your distributed systems stay in sync even when some nodes are drunk or hacked. It’s essential for things like blockchain and distributed databases. It’s like a virtual \"agree to disagree\" but in a way that actually works.\n",
      "\n",
      "## BOID: The Digital Flock\n",
      "\n",
      "Last but not least, **BOID (Boids)** is an algorithm that simulates flocking behavior in birds. It’s based on just a few simple rules, but the emergent complexity is magical. Imagine a bunch of birds following basic rules, and suddenly, they form intricate patterns that look like they were choreographed by some great bird choreographer. It’s like watching chaos theory in action but with a side of nature. Nature, in this case, is actually a computer program that’s just a bit smarter than you thought.\n",
      "\n",
      "---\n",
      "\n",
      "So, the next time you find yourself wondering if your array is sorted or if your map is generated, remember these 10 algorithms. They might be solving problems you didn’t even know you had. Or, at the very least, they’re making the world a bit more orderly (and a bit more chaotic at the same time). But hey, that’s the beauty of algorithms—they’re the chaos and order of the digital world.\n"
     ]
    }
   ],
   "source": [
    "for event in graph.stream(None,thread, stream_mode=\"values\"):\n",
    "    print(event[\"blog_content\"])"
   ]
  },
  {
   "cell_type": "code",
   "execution_count": null,
   "metadata": {},
   "outputs": [],
   "source": []
  }
 ],
 "metadata": {
  "kernelspec": {
   "display_name": "Python 3",
   "language": "python",
   "name": "python3"
  },
  "language_info": {
   "codemirror_mode": {
    "name": "ipython",
    "version": 3
   },
   "file_extension": ".py",
   "mimetype": "text/x-python",
   "name": "python",
   "nbconvert_exporter": "python",
   "pygments_lexer": "ipython3",
   "version": "3.12.8"
  }
 },
 "nbformat": 4,
 "nbformat_minor": 2
}
