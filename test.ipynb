{
 "cells": [
  {
   "cell_type": "code",
   "execution_count": 1,
   "metadata": {},
   "outputs": [],
   "source": [
    "from typing import TypedDict, Optional, List, Callable, Dict, Any, Literal\n",
    "from typing_extensions import Annotated\n",
    "import os\n",
    "from langchain_core.messages import AnyMessage, SystemMessage, HumanMessage\n",
    "from langchain_groq import ChatGroq\n",
    "from langgraph.checkpoint.memory import MemorySaver\n",
    "from youtube_transcript_api import YouTubeTranscriptApi\n",
    "from langgraph.graph import StateGraph, add_messages\n",
    "from dotenv import load_dotenv\n",
    "from IPython.display import Image, display\n",
    "from langgraph.graph import START, END"
   ]
  },
  {
   "cell_type": "code",
   "execution_count": 2,
   "metadata": {},
   "outputs": [],
   "source": [
    "load_dotenv()\n",
    "os.environ[\"GROQ_API_KEY\"]=os.getenv(\"GROQ_API_KEY\")"
   ]
  },
  {
   "cell_type": "code",
   "execution_count": 3,
   "metadata": {},
   "outputs": [],
   "source": [
    "class BlogGenState(TypedDict):\n",
    "    yt_url: Optional[str]\n",
    "    transcript: Optional[str]\n",
    "    blog_title: Optional[str]\n",
    "    blog_content: Optional[str]\n",
    "    regenerate_status: Optional[str]\n",
    "    feedback : Optional[str]\n",
    "    message: Annotated[list[AnyMessage], add_messages]\n",
    "    next_state: Optional[str]"
   ]
  },
  {
   "cell_type": "code",
   "execution_count": 4,
   "metadata": {},
   "outputs": [],
   "source": [
    "class Agents:\n",
    "    def __init__(self):\n",
    "        self.llm = ChatGroq(model=\"qwen-2.5-32b\")\n",
    "    def generate_blog(self, state: BlogGenState) -> BlogGenState:\n",
    "        \"\"\"\n",
    "        Generates a title and content for the blog based on the transcript.\n",
    "        \n",
    "        Args:\n",
    "            state: The current state of the workflow\n",
    "            \n",
    "        Returns:\n",
    "            Updated state with blog title and content\n",
    "        \"\"\"\n",
    "        transcript = state.get(\"transcript\")\n",
    "        if transcript is None:\n",
    "            video_id = state[\"yt_url\"].split(\"v=\")[-1].split(\"&\")[0]\n",
    "            transcript_list = YouTubeTranscriptApi.get_transcript(video_id)\n",
    "            full_transcript = \" \".join([entry['text'] for entry in transcript_list])\n",
    "            state[\"transcript\"] = full_transcript\n",
    "        regen_status = state.get(\"regenerate_status\")\n",
    "        if regen_status == \"yes\":\n",
    "            content_regenerate_prompt = [\n",
    "                SystemMessage(content=f\"The user has chosen to regenerate the blog content. Please provide new content for the blog post based on the transcript and the given feedback: \\n {state['feedback']}\\n. PREVIOUS INSTRUCTIONS: You are an expert in generating content for BLOG posts based on the transcripts of YouTube videos. IMPORTANT: YOU SIMPLY ONLY CREATE CONTENT FOR THE BLOG. THE TITLE IS ALREADY PROVIDED. Output format: Simply output the content in markdown format with appropriate headings, paragraphs, and formatting.\"),\n",
    "                HumanMessage(content=f\"Generate blog content for the title '{state['blog_title']}' based on the following transcript: {state['transcript']}\")\n",
    "            ]\n",
    "            regenerated_content = self.llm.invoke(content_regenerate_prompt).content.strip()\n",
    "\n",
    "            return {\n",
    "                \"blog_content\": regenerated_content,\n",
    "                \"message\": state[\"message\"] + [\n",
    "                    SystemMessage(content=f\"Blog title and content regenerated on the users request.\")\n",
    "                ]\n",
    "            }\n",
    "\n",
    "        title_prompt = [\n",
    "            SystemMessage(content=\"You are an expert in generating titles for BLOG posts based on the transcripts of YouTube videos. IMPORTANT: YOU SIMPLY ONLY CREATE TITLES FOR THE BLOG. NO EXPLANATION IS REQUIRED.\"),\n",
    "            HumanMessage(content=f\"Generate a good blog title for a video with the following transcript: {state['transcript']}\")\n",
    "        ]\n",
    "        blog_title = self.llm.invoke(title_prompt).content.strip()\n",
    "\n",
    "        content_prompt = [\n",
    "            SystemMessage(content=\"\"\"You are an expert in generating content for BLOG posts based on the transcripts of YouTube videos. \n",
    "            IMPORTANT: YOU SIMPLY ONLY CREATE CONTENT FOR THE BLOG. THE TITLE IS ALREADY PROVIDED. \n",
    "            Output format: Simply output the content in markdown format with appropriate headings, paragraphs, and formatting.\"\"\"),\n",
    "            HumanMessage(content=f\"Generate blog content for the title '{blog_title}' based on the following transcript: {state['transcript']}\")\n",
    "        ]\n",
    "        blog_content = self.llm.invoke(content_prompt).content.strip()\n",
    "\n",
    "        return {\n",
    "            \"blog_title\": blog_title,\n",
    "            \"blog_content\": blog_content,\n",
    "            \"message\": state[\"message\"] + [\n",
    "                SystemMessage(content=\"Transcript fetched successfully.\"),\n",
    "                SystemMessage(content=f\"Blog title generated: {blog_title}\"),\n",
    "                SystemMessage(content=\"Blog content generated successfully.\")\n",
    "            ],\n",
    "            \"next_state\": \"human_feedback\"\n",
    "        }\n",
    "    def human_feedback(self, state: BlogGenState) -> BlogGenState:\n",
    "        \"\"\"Just an empty to update the feedback param\"\"\"\n",
    "        return state"
   ]
  },
  {
   "cell_type": "code",
   "execution_count": 5,
   "metadata": {},
   "outputs": [],
   "source": [
    "class BlogGenGraph:\n",
    "    def __init__(self):\n",
    "        self.agents = Agents()\n",
    "    def regenerate_condition_or_not(self, state: BlogGenState) -> Literal[\"regenerate\",\"end\"]:\n",
    "        if state[\"regenerate_status\"] == \"yes\":\n",
    "            return \"regenerate\"\n",
    "        else:    \n",
    "            return \"end\" \n",
    "    def create_graph(self):\n",
    "        graph_builder = StateGraph(BlogGenState)\n",
    "        graph_builder.add_node(\"generate_blog_with_title\",self.agents.generate_blog)\n",
    "        graph_builder.add_node(\"human_feedback\",self.agents.human_feedback)\n",
    "        graph_builder.add_edge(\"generate_blog_with_title\",\"human_feedback\")\n",
    "        graph_builder.add_conditional_edges(\"human_feedback\",self.regenerate_condition_or_not, {\"regenerate\": \"generate_blog_with_title\", \"end\": END})\n",
    "\n",
    "        graph_builder.set_entry_point(\"generate_blog_with_title\")\n",
    "\n",
    "        memory = MemorySaver()\n",
    "        graph = graph_builder.compile(checkpointer=memory, interrupt_before=[\"human_feedback\"])\n",
    "        return graph"
   ]
  },
  {
   "cell_type": "code",
   "execution_count": 6,
   "metadata": {},
   "outputs": [
    {
     "data": {
      "image/png": "[encoded data removed]",
      "text/plain": [
       "<IPython.core.display.Image object>"
      ]
     },
     "metadata": {},
     "output_type": "display_data"
    }
   ],
   "source": [
    "graph = BlogGenGraph().create_graph()\n",
    "display(Image(graph.get_graph(xray=1).draw_mermaid_png()))"
   ]
  },
  {
   "cell_type": "code",
   "execution_count": 7,
   "metadata": {},
   "outputs": [],
   "source": [
    "youtubelink = \"https://www.youtube.com/watch?v=SmyPTnlqhlk\"\n",
    "thread = {\"configurable\": {\"thread_id\": \"1\"}}"
   ]
  },
  {
   "cell_type": "code",
   "execution_count": 8,
   "metadata": {},
   "outputs": [
    {
     "name": "stdout",
     "output_type": "stream",
     "text": [
      "None\n",
      "# 10 Mind-Boggling Algorithms That Changed the World: From Quantum Computing to Video Game Maps\n",
      "\n",
      "## Introduction\n",
      "\n",
      "Have you ever wondered how complex tasks like generating 3D models or creating random yet cohesive game maps are accomplished? These marvels are brought to life by algorithms – intricate sets of instructions that solve specific problems. In this blog post, we'll delve into 10 fascinating algorithms that have changed the world in ways you might never have imagined.\n",
      "\n",
      "## Wave Function Collapse: The Quantum Map Generator\n",
      "\n",
      "One of the most intriguing algorithms is wave function collapse. Inspired by the wave-particle duality in quantum mechanics, this algorithm is used to generate infinite, coherent maps for video games. The map starts in a \"superposition\" of all possible tile configurations. As the algorithm progresses, it \"collapses\" the map into a specific configuration, akin to how quantum particles behave when observed.\n",
      "\n",
      "## Diffusion: The Magic Behind AI-Generated Images\n",
      "\n",
      "Diffusion is a machine learning algorithm that has taken the world by storm with its ability to generate realistic images and videos. Inspired by thermodynamics, where particles spread from high to low concentration, diffusion works in reverse. Starting from random noise, it refines and refines until it produces a structured, coherent image. This is the magic behind image generators like DALL-E and Stable Diffusion.\n",
      "\n",
      "## Simulated Annealing: Finding the Best Solution Through Heating and Cooling\n",
      "\n",
      "Simulated annealing is an optimization algorithm that mimics the process of heating and cooling a material to reduce defects. This algorithm is used to find the optimal solution in large search spaces, much like finding the highest peak in a mountain range. It starts by exploring many possible solutions and gradually narrows down to the best one, balancing exploration and exploitation.\n",
      "\n",
      "## Sleep Sort: The Lazy Sorting Algorithm\n",
      "\n",
      "Sleep sort is an unconventional sorting algorithm that leverages the operating system's task scheduler to sort an array. It assigns each element in the array to a separate thread, which sleeps for a duration proportional to the element's value and then prints the value. While highly inefficient, it's a creative and humorous approach to sorting.\n",
      "\n",
      "## Quantum BOGO Sort: Sorting Through the Multiverse\n",
      "\n",
      "Imagine a sorting algorithm that leverages quantum mechanics to sort arrays. Quantum BOGO sort is a whimsical concept that utilizes the idea of multiple parallel universes to find a sorted array. Although purely theoretical, it provides a fun and mind-bending example of how quantum computing could revolutionize computing.\n",
      "\n",
      "## RSA Encryption: The Heart of Digital Security\n",
      "\n",
      "RSA encryption is a cornerstone of modern digital security. It allows for secure communication over the internet by generating public and private keys. The algorithm's strength lies in the difficulty of factoring large prime numbers, making it nearly impossible to crack without the corresponding private key. However, quantum computers and Shor's algorithm could potentially break this security barrier in the future.\n",
      "\n",
      "## Shor's Algorithm: Quantum Factoring Made Easy\n",
      "\n",
      "Shor's algorithm is a quantum algorithm designed to factor integers exponentially faster than any known classical algorithm. This algorithm, if run on a quantum computer, could potentially break RSA encryption by efficiently finding the prime factors of large numbers. While currently impractical due to the limitations of quantum computers, it represents a significant threat to current cryptographic standards.\n",
      "\n",
      "## Marching Cubes: From MRI Scans to 3D Models\n",
      "\n",
      "The marching cubes algorithm is used to extract 3D models from MRI and CT scans. It converts a 3D scalar field into a polygonal mesh, which is a crucial step in medical imaging. The algorithm works by iterating over a 3D grid and determining the best way to connect vertices to form a mesh, ensuring accurate and detailed 3D representations.\n",
      "\n",
      "## Byzantine Fault Tolerance: Keeping Distributed Systems Stable\n",
      "\n",
      "In the realm of distributed computing, the Byzantine Generals Problem poses a significant challenge. Algorithms like Practical Byzantine Fault Tolerance (PBFT) ensure that distributed systems can operate reliably even if some nodes fail or act maliciously. This is essential for blockchain technology and distributed databases, ensuring consistent and secure operations.\n",
      "\n",
      "## Boid's Algorithm: Simulating Flocking Behavior\n",
      "\n",
      "Boid's algorithm, created by Craig Reynolds in 1986, simulates the flocking behavior of birds. By following simple rules, such as maintaining a personal space, aligning with neighbors, and staying close to the flock, the algorithm can produce complex, emergent behaviors. This algorithm not only reflects the beauty of nature but also has applications in robotics and AI.\n",
      "\n",
      "## Conclusion\n",
      "\n",
      "Algorithms are the unsung heroes of modern technology, hidden behind the scenes but responsible for some of the most innovative and impactful applications. From medical imaging to quantum computing, these algorithms reflect the ingenuity of human creativity and the power of computation. As technology advances, the role of algorithms in shaping our world will only become more significant.\n"
     ]
    }
   ],
   "source": [
    "for event in graph.stream({\"yt_url\": youtubelink},thread, stream_mode=\"values\"):\n",
    "    content = event.get(\"blog_content\")\n",
    "    print(content)"
   ]
  },
  {
   "cell_type": "code",
   "execution_count": 9,
   "metadata": {},
   "outputs": [
    {
     "data": {
      "text/plain": [
       "('human_feedback',)"
      ]
     },
     "execution_count": 9,
     "metadata": {},
     "output_type": "execute_result"
    }
   ],
   "source": [
    "graph.get_state(thread).next"
   ]
  },
  {
   "cell_type": "code",
   "execution_count": 10,
   "metadata": {},
   "outputs": [],
   "source": [
    "human_feedback = \"Add a more funny tone to the blog post.\""
   ]
  },
  {
   "cell_type": "code",
   "execution_count": 11,
   "metadata": {},
   "outputs": [
    {
     "data": {
      "text/plain": [
       "{'configurable': {'thread_id': '1',\n",
       "  'checkpoint_ns': '',\n",
       "  'checkpoint_id': '1f0058e7-e976-68b3-8002-a08bd3763337'}}"
      ]
     },
     "execution_count": 11,
     "metadata": {},
     "output_type": "execute_result"
    }
   ],
   "source": [
    "graph.update_state(thread, {\"regenerate_status\": \"yes\", \"next_state\":\"regenerate\", \"feedback\":human_feedback}, as_node=\"human_feedback\")"
   ]
  },
  {
   "cell_type": "code",
   "execution_count": 12,
   "metadata": {},
   "outputs": [
    {
     "name": "stdout",
     "output_type": "stream",
     "text": [
      "# 10 Mind-Boggling Algorithms That Changed the World: From Quantum Computing to Video Game Maps\n",
      "\n",
      "## Introduction\n",
      "\n",
      "Have you ever wondered how complex tasks like generating 3D models or creating random yet cohesive game maps are accomplished? These marvels are brought to life by algorithms – intricate sets of instructions that solve specific problems. In this blog post, we'll delve into 10 fascinating algorithms that have changed the world in ways you might never have imagined.\n",
      "\n",
      "## Wave Function Collapse: The Quantum Map Generator\n",
      "\n",
      "One of the most intriguing algorithms is wave function collapse. Inspired by the wave-particle duality in quantum mechanics, this algorithm is used to generate infinite, coherent maps for video games. The map starts in a \"superposition\" of all possible tile configurations. As the algorithm progresses, it \"collapses\" the map into a specific configuration, akin to how quantum particles behave when observed.\n",
      "\n",
      "## Diffusion: The Magic Behind AI-Generated Images\n",
      "\n",
      "Diffusion is a machine learning algorithm that has taken the world by storm with its ability to generate realistic images and videos. Inspired by thermodynamics, where particles spread from high to low concentration, diffusion works in reverse. Starting from random noise, it refines and refines until it produces a structured, coherent image. This is the magic behind image generators like DALL-E and Stable Diffusion.\n",
      "\n",
      "## Simulated Annealing: Finding the Best Solution Through Heating and Cooling\n",
      "\n",
      "Simulated annealing is an optimization algorithm that mimics the process of heating and cooling a material to reduce defects. This algorithm is used to find the optimal solution in large search spaces, much like finding the highest peak in a mountain range. It starts by exploring many possible solutions and gradually narrows down to the best one, balancing exploration and exploitation.\n",
      "\n",
      "## Sleep Sort: The Lazy Sorting Algorithm\n",
      "\n",
      "Sleep sort is an unconventional sorting algorithm that leverages the operating system's task scheduler to sort an array. It assigns each element in the array to a separate thread, which sleeps for a duration proportional to the element's value and then prints the value. While highly inefficient, it's a creative and humorous approach to sorting.\n",
      "\n",
      "## Quantum BOGO Sort: Sorting Through the Multiverse\n",
      "\n",
      "Imagine a sorting algorithm that leverages quantum mechanics to sort arrays. Quantum BOGO sort is a whimsical concept that utilizes the idea of multiple parallel universes to find a sorted array. Although purely theoretical, it provides a fun and mind-bending example of how quantum computing could revolutionize computing.\n",
      "\n",
      "## RSA Encryption: The Heart of Digital Security\n",
      "\n",
      "RSA encryption is a cornerstone of modern digital security. It allows for secure communication over the internet by generating public and private keys. The algorithm's strength lies in the difficulty of factoring large prime numbers, making it nearly impossible to crack without the corresponding private key. However, quantum computers and Shor's algorithm could potentially break this security barrier in the future.\n",
      "\n",
      "## Shor's Algorithm: Quantum Factoring Made Easy\n",
      "\n",
      "Shor's algorithm is a quantum algorithm designed to factor integers exponentially faster than any known classical algorithm. This algorithm, if run on a quantum computer, could potentially break RSA encryption by efficiently finding the prime factors of large numbers. While currently impractical due to the limitations of quantum computers, it represents a significant threat to current cryptographic standards.\n",
      "\n",
      "## Marching Cubes: From MRI Scans to 3D Models\n",
      "\n",
      "The marching cubes algorithm is used to extract 3D models from MRI and CT scans. It converts a 3D scalar field into a polygonal mesh, which is a crucial step in medical imaging. The algorithm works by iterating over a 3D grid and determining the best way to connect vertices to form a mesh, ensuring accurate and detailed 3D representations.\n",
      "\n",
      "## Byzantine Fault Tolerance: Keeping Distributed Systems Stable\n",
      "\n",
      "In the realm of distributed computing, the Byzantine Generals Problem poses a significant challenge. Algorithms like Practical Byzantine Fault Tolerance (PBFT) ensure that distributed systems can operate reliably even if some nodes fail or act maliciously. This is essential for blockchain technology and distributed databases, ensuring consistent and secure operations.\n",
      "\n",
      "## Boid's Algorithm: Simulating Flocking Behavior\n",
      "\n",
      "Boid's algorithm, created by Craig Reynolds in 1986, simulates the flocking behavior of birds. By following simple rules, such as maintaining a personal space, aligning with neighbors, and staying close to the flock, the algorithm can produce complex, emergent behaviors. This algorithm not only reflects the beauty of nature but also has applications in robotics and AI.\n",
      "\n",
      "## Conclusion\n",
      "\n",
      "Algorithms are the unsung heroes of modern technology, hidden behind the scenes but responsible for some of the most innovative and impactful applications. From medical imaging to quantum computing, these algorithms reflect the ingenuity of human creativity and the power of computation. As technology advances, the role of algorithms in shaping our world will only become more significant.\n",
      "# 10 Mind-Boggling Algorithms That Changed the World: From Quantum Computing to Video Game Maps\n",
      "\n",
      "## Introduction\n",
      "\n",
      "Have you ever woken up in the middle of the night in a panic, wondering how to extract a polygonal mesh of an ISO surface from a three-dimensional discrete scalar field? No? Well, I didn't think so. But back in '87, two programmers at General Electric did. They created and patented the marching cubes algorithm, an algorithm that has likely saved countless lives by allowing doctors to visualize data from CT and MRI scans. So, when you're lying on a table getting scanned, you can thank those two for making sure your data looks like a masterpiece.\n",
      "\n",
      "When you instruct a machine to solve a problem with code, you're creating an algorithm. It's like giving your computer a recipe for rearranging ones and zeros so that it can make animals talk and vacuums walk. Most algorithms belong in the dumpster, but some are fast, some are beautiful, and some are so weird they're indistinguishable from magic. Today, we’ll look at 10 of the most interesting algorithms ever engineered and how they're used to solve very interesting problems in the real world.\n",
      "\n",
      "## Wave Function Collapse\n",
      "\n",
      "First up, wave function collapse—one of the weirdest things in all of science. This concept stems from the double-slit experiment, where particles behave like waves when you're not looking, but when you look, they suddenly collapse down to particles. It makes total sense when you realize we're living in a simulation and the universe wrote this algorithm to cut down on its AWS bill.\n",
      "\n",
      "The general idea behind wave function collapse can also be implemented programmatically. Imagine you have a map for a video game that needs to go on forever. Instead of making a bigger map, you need an algorithm to procedurally generate it on the fly. Here’s the weird part: We can take this initial map and think of it as being in the initial superposition of all possibilities. Upon observation, it collapses into a particle—or in this case, selects a random map tile while following a consistent set of rules. It provides a random yet cohesive result, and it doesn’t rely on any sort of modern generative AI. This algorithm is like a game of \"Choose Your Own Adventure\" that always picks the most interesting path.\n",
      "\n",
      "## Diffusion\n",
      "\n",
      "Speaking of which, AI is weird as hell. The diffusion algorithm, originally developed at OpenAI, is the magic behind image generators like DALL·E and Stable Diffusion. The concept of diffusion actually comes from thermodynamics, where particles spread from areas of higher concentration to lower concentration. In AI, the process is reversed. The algorithm starts by generating random noise (high entropy) and gradually refines it to a structured image (low entropy). \n",
      "\n",
      "First, you need to train a model that can do this well. The diffusion algorithm works in two phases. In the forward phase, it gradually adds noise to an image until it becomes completely random. In the second phase, the algorithm reverses this process, reconstructing the image back into a coherent form. When it runs over millions of labeled images, you get a collection of weights that can generate new images out of thin air, allowing you to build an infinite army of onlyFans models. It’s highly compute-intensive, but it also works well on audio, and the next frontier is diffusion for video generation.\n",
      "\n",
      "## Simulated Annealing\n",
      "\n",
      "Now, one frustrating thing about programming is that for many problems, there’s not just one solution but many. It’s like trying to organize Amazon’s warehouse: There are many ways to do it, but some are more efficient than others. Simulated annealing is a word that comes from metallurgy, where metals are heated and cooled down over and over again to remove defects. The same idea is used in optimization algorithms to find the best answer in a sea of good answers.\n",
      "\n",
      "Imagine trying to find the highest point in a mountain range full of peaks and valleys. A simple hill-climbing algorithm won’t work because there are many local peaks. Initially, the temperature starts high, allowing the algorithm to explore freely. As time goes on, the temperature lowers, decreasing the probability of accepting a worse solution. The trade-off here is exploration versus exploitation. But here’s the funny part: This algorithm is also a good way for beginners to learn how to code. Initially, you start exploring all kinds of different technologies and frameworks, then eventually you find one specific area to specialize in.\n",
      "\n",
      "## Sleep Sort\n",
      "\n",
      "Speaking of sorting, the most ingenious sorting algorithm of all time is, without a doubt, sleep sort. Most sorting algorithms use strategies like divide and conquer to break up an array into subarrays where it can be sorted more efficiently. But some random genius on the internet found a better way—by delegating the sorting to the CPU scheduler. The code in Bash is incredibly simple: It loops over the array, and for each element, it opens up a new thread that sleeps for the amount of time proportional to the value of its element. Finally, after waking up, it prints that element. It’s genius because it delegates sorting to the CPU scheduler, but it’s also incredibly dumb and useless because it delegates sorting to the CPU scheduler.\n",
      "\n",
      "## BOGO Sort and Quantum BOGO Sort\n",
      "\n",
      "Speaking of useless sorting algorithms, what about BOGO sort? It tries to sort an array by randomly guessing over and over again. It’s like playing the lottery, but what if we apply the same algorithm with quantum mechanics to the multiverse? If we trust multiverse science, we know that all possible outcomes exist in separate parallel universes. That means if you find yourself with an unsorted array, there's some other parallel universe where it is sorted. With a portal gun, you could travel to that universe and steal the sorted array. Although you'd have to kill the version of yourself in that universe. If it’s a really large array, quantum BOGO sort might be worth it. But, let's be real, it's purely hypothetical.\n",
      "\n",
      "## RSA and Shor's Algorithm\n",
      "\n",
      "One of the most practical and godlike algorithms of all time is RSA, a public key crypto system. It’s essential for digital security, allowing people on the internet to lock their mailboxes and sign their letters with a unique signature. RSA is based on one simple mathematical reality: Multiplying large numbers to find two original large prime numbers is extremely difficult and time-consuming. (Your laptop would take 300 trillion years to brew coffee, unless quantum computers become a thing and we can start leveraging Shor's algorithm, which can solve the integer factorization problem exponentially faster than any classical algorithm.\n",
      "\n",
      "Prime factoring is pretty simple, but how Shor's algorithm does it is where things get weird. It relies on concepts like qubits, superposition, and entanglement to perform massive amounts of calculations in parallel. The algorithm is legit, but so far, the biggest number ever factored is 21. Even IBM's state-of-the-art Q System One fails when trying to factor the number 35. However, recently the Chinese factored a bigger number with a quantum computer using a different algorithm that doesn't scale well for large numbers unlike Shor's algorithm. So, everything is safe for now, but when someone figures out how to make quantum computers work, all hell could break loose in the cybersecurity world.\n",
      "\n",
      "## Marching Cubes Algorithm\n",
      "\n",
      "At the beginning of this video, I mentioned the marching cubes algorithm, but it deserves a closer look. It starts with a 3D scalar field, which might represent data from an MRI machine. Each point in 3D space is represented by a single number (scalar). The algorithm starts with a single point and takes its eight neighboring locations to form an imaginary cube. It treats the values as bits in an 8-bit integer, resulting in 256 different possibilities that point to a pre-calculated array of polygons. The algorithm marches through each point to create a 3D mesh that can be used in 3D software. Back then, it was really cool because MRI machines produce slices of data that can now be rendered in 3D. In modern times, we're often dealing with distributed systems in the cloud, which brings us to the Byzantine generals problem.\n",
      "\n",
      "## The Byzantine Generals Problem\n",
      "\n",
      "Imagine you're a general in the Byzantine Army. You're camped around a city with a few other generals, and you plan to attack at dawn. But what if one of the generals gets drunk and wakes up hungover and can't attack? The entire system could collapse. Computers have the same problem. Sometimes they might fail or be infiltrated by hackers, and you never know when or where that's going to happen. Luckily, algorithms like PBFT (Practical Byzantine Fault Tolerance) are designed to solve this problem, keeping a distributed network working properly even if up to one-third of its nodes go haywire. It works by having a node broadcast a pre-prepare message to other nodes, indicating its readiness to execute some code that will change the system. Once a consensus is formed, the original node sends back a commit message to all the other nodes, which can then execute the changes, making the entire state of the system consistent. These algorithms are essential for blockchain technology and distributed cloud databases.\n",
      "\n",
      "## Boids\n",
      "\n",
      "What's really cool about algorithms is that they can also reflect nature. Consider Craig Reynolds' Boids program, which was created back in '86 and simulates the flocking behavior of birds. What’s so cool about it is that it demonstrates the emerging complexity or beauty that we get out of just a few simple rules. In this case, the birds have three rules: They steer to avoid crowding, they steer towards the average heading of the flock, and they steer towards the center of mass of their local flock mates. The end result is these intricate patterns that weren’t programmed directly but emerged naturally. It’s like making a cake and finding a unicorn on top.\n",
      "\n",
      "## Boyer-Moore String Search\n",
      "\n",
      "Finally, that brings us to an old algorithm that blew my mind just the other day and inspired this video: the Boyer-Moore string search. It’s weird because it becomes faster and more efficient as the string it’s searching becomes bigger. It makes sense when you understand the algorithm. It scans text from right to left and has two rules: When it encounters a bad character not found in the search pattern, it jumps past it based on an estimation made in a pre-processed table. Likewise, if it finds a partial match but a mismatch occurs, it has a separate pre-calculated table that maximizes the number of characters it can safely skip. These rules are called heuristics, which are like functions that aren’t guaranteed to be perfect but are far more practical than looping over every single character. If you've ever wondered why `grep` is so fast, you have this algorithm to thank.\n",
      "\n",
      "So, the next time you're staring at a screen trying to figure out how to sort a list or generate a map, remember these algorithms. They're not just lines of code—they're the backbone of our digital world, from quantum computing to video game maps, and they're making our lives a lot easier (and a lot more interesting).\n"
     ]
    }
   ],
   "source": [
    "for event in graph.stream(None,thread, stream_mode=\"values\"):\n",
    "    print(event.get(\"blog_content\"))"
   ]
  },
  {
   "cell_type": "code",
   "execution_count": 13,
   "metadata": {},
   "outputs": [
    {
     "data": {
      "text/plain": [
       "('human_feedback',)"
      ]
     },
     "execution_count": 13,
     "metadata": {},
     "output_type": "execute_result"
    }
   ],
   "source": [
    "graph.get_state(thread).next"
   ]
  },
  {
   "cell_type": "code",
   "execution_count": 14,
   "metadata": {},
   "outputs": [
    {
     "data": {
      "text/plain": [
       "{'configurable': {'thread_id': '1',\n",
       "  'checkpoint_ns': '',\n",
       "  'checkpoint_id': '1f0058e9-59a8-69f5-8004-90fd6cb7ce3b'}}"
      ]
     },
     "execution_count": 14,
     "metadata": {},
     "output_type": "execute_result"
    }
   ],
   "source": [
    "graph.update_state(thread, {\"regenerate_status\": \"no\", \"next_state\":\"end\", \"waiting_for_input\": \"no\"}, as_node=\"human_feedback\")"
   ]
  },
  {
   "cell_type": "code",
   "execution_count": 15,
   "metadata": {},
   "outputs": [
    {
     "name": "stdout",
     "output_type": "stream",
     "text": [
      "# 10 Mind-Boggling Algorithms That Changed the World: From Quantum Computing to Video Game Maps\n",
      "\n",
      "## Introduction\n",
      "\n",
      "Have you ever woken up in the middle of the night in a panic, wondering how to extract a polygonal mesh of an ISO surface from a three-dimensional discrete scalar field? No? Well, I didn't think so. But back in '87, two programmers at General Electric did. They created and patented the marching cubes algorithm, an algorithm that has likely saved countless lives by allowing doctors to visualize data from CT and MRI scans. So, when you're lying on a table getting scanned, you can thank those two for making sure your data looks like a masterpiece.\n",
      "\n",
      "When you instruct a machine to solve a problem with code, you're creating an algorithm. It's like giving your computer a recipe for rearranging ones and zeros so that it can make animals talk and vacuums walk. Most algorithms belong in the dumpster, but some are fast, some are beautiful, and some are so weird they're indistinguishable from magic. Today, we’ll look at 10 of the most interesting algorithms ever engineered and how they're used to solve very interesting problems in the real world.\n",
      "\n",
      "## Wave Function Collapse\n",
      "\n",
      "First up, wave function collapse—one of the weirdest things in all of science. This concept stems from the double-slit experiment, where particles behave like waves when you're not looking, but when you look, they suddenly collapse down to particles. It makes total sense when you realize we're living in a simulation and the universe wrote this algorithm to cut down on its AWS bill.\n",
      "\n",
      "The general idea behind wave function collapse can also be implemented programmatically. Imagine you have a map for a video game that needs to go on forever. Instead of making a bigger map, you need an algorithm to procedurally generate it on the fly. Here’s the weird part: We can take this initial map and think of it as being in the initial superposition of all possibilities. Upon observation, it collapses into a particle—or in this case, selects a random map tile while following a consistent set of rules. It provides a random yet cohesive result, and it doesn’t rely on any sort of modern generative AI. This algorithm is like a game of \"Choose Your Own Adventure\" that always picks the most interesting path.\n",
      "\n",
      "## Diffusion\n",
      "\n",
      "Speaking of which, AI is weird as hell. The diffusion algorithm, originally developed at OpenAI, is the magic behind image generators like DALL·E and Stable Diffusion. The concept of diffusion actually comes from thermodynamics, where particles spread from areas of higher concentration to lower concentration. In AI, the process is reversed. The algorithm starts by generating random noise (high entropy) and gradually refines it to a structured image (low entropy). \n",
      "\n",
      "First, you need to train a model that can do this well. The diffusion algorithm works in two phases. In the forward phase, it gradually adds noise to an image until it becomes completely random. In the second phase, the algorithm reverses this process, reconstructing the image back into a coherent form. When it runs over millions of labeled images, you get a collection of weights that can generate new images out of thin air, allowing you to build an infinite army of onlyFans models. It’s highly compute-intensive, but it also works well on audio, and the next frontier is diffusion for video generation.\n",
      "\n",
      "## Simulated Annealing\n",
      "\n",
      "Now, one frustrating thing about programming is that for many problems, there’s not just one solution but many. It’s like trying to organize Amazon’s warehouse: There are many ways to do it, but some are more efficient than others. Simulated annealing is a word that comes from metallurgy, where metals are heated and cooled down over and over again to remove defects. The same idea is used in optimization algorithms to find the best answer in a sea of good answers.\n",
      "\n",
      "Imagine trying to find the highest point in a mountain range full of peaks and valleys. A simple hill-climbing algorithm won’t work because there are many local peaks. Initially, the temperature starts high, allowing the algorithm to explore freely. As time goes on, the temperature lowers, decreasing the probability of accepting a worse solution. The trade-off here is exploration versus exploitation. But here’s the funny part: This algorithm is also a good way for beginners to learn how to code. Initially, you start exploring all kinds of different technologies and frameworks, then eventually you find one specific area to specialize in.\n",
      "\n",
      "## Sleep Sort\n",
      "\n",
      "Speaking of sorting, the most ingenious sorting algorithm of all time is, without a doubt, sleep sort. Most sorting algorithms use strategies like divide and conquer to break up an array into subarrays where it can be sorted more efficiently. But some random genius on the internet found a better way—by delegating the sorting to the CPU scheduler. The code in Bash is incredibly simple: It loops over the array, and for each element, it opens up a new thread that sleeps for the amount of time proportional to the value of its element. Finally, after waking up, it prints that element. It’s genius because it delegates sorting to the CPU scheduler, but it’s also incredibly dumb and useless because it delegates sorting to the CPU scheduler.\n",
      "\n",
      "## BOGO Sort and Quantum BOGO Sort\n",
      "\n",
      "Speaking of useless sorting algorithms, what about BOGO sort? It tries to sort an array by randomly guessing over and over again. It’s like playing the lottery, but what if we apply the same algorithm with quantum mechanics to the multiverse? If we trust multiverse science, we know that all possible outcomes exist in separate parallel universes. That means if you find yourself with an unsorted array, there's some other parallel universe where it is sorted. With a portal gun, you could travel to that universe and steal the sorted array. Although you'd have to kill the version of yourself in that universe. If it’s a really large array, quantum BOGO sort might be worth it. But, let's be real, it's purely hypothetical.\n",
      "\n",
      "## RSA and Shor's Algorithm\n",
      "\n",
      "One of the most practical and godlike algorithms of all time is RSA, a public key crypto system. It’s essential for digital security, allowing people on the internet to lock their mailboxes and sign their letters with a unique signature. RSA is based on one simple mathematical reality: Multiplying large numbers to find two original large prime numbers is extremely difficult and time-consuming. (Your laptop would take 300 trillion years to brew coffee, unless quantum computers become a thing and we can start leveraging Shor's algorithm, which can solve the integer factorization problem exponentially faster than any classical algorithm.\n",
      "\n",
      "Prime factoring is pretty simple, but how Shor's algorithm does it is where things get weird. It relies on concepts like qubits, superposition, and entanglement to perform massive amounts of calculations in parallel. The algorithm is legit, but so far, the biggest number ever factored is 21. Even IBM's state-of-the-art Q System One fails when trying to factor the number 35. However, recently the Chinese factored a bigger number with a quantum computer using a different algorithm that doesn't scale well for large numbers unlike Shor's algorithm. So, everything is safe for now, but when someone figures out how to make quantum computers work, all hell could break loose in the cybersecurity world.\n",
      "\n",
      "## Marching Cubes Algorithm\n",
      "\n",
      "At the beginning of this video, I mentioned the marching cubes algorithm, but it deserves a closer look. It starts with a 3D scalar field, which might represent data from an MRI machine. Each point in 3D space is represented by a single number (scalar). The algorithm starts with a single point and takes its eight neighboring locations to form an imaginary cube. It treats the values as bits in an 8-bit integer, resulting in 256 different possibilities that point to a pre-calculated array of polygons. The algorithm marches through each point to create a 3D mesh that can be used in 3D software. Back then, it was really cool because MRI machines produce slices of data that can now be rendered in 3D. In modern times, we're often dealing with distributed systems in the cloud, which brings us to the Byzantine generals problem.\n",
      "\n",
      "## The Byzantine Generals Problem\n",
      "\n",
      "Imagine you're a general in the Byzantine Army. You're camped around a city with a few other generals, and you plan to attack at dawn. But what if one of the generals gets drunk and wakes up hungover and can't attack? The entire system could collapse. Computers have the same problem. Sometimes they might fail or be infiltrated by hackers, and you never know when or where that's going to happen. Luckily, algorithms like PBFT (Practical Byzantine Fault Tolerance) are designed to solve this problem, keeping a distributed network working properly even if up to one-third of its nodes go haywire. It works by having a node broadcast a pre-prepare message to other nodes, indicating its readiness to execute some code that will change the system. Once a consensus is formed, the original node sends back a commit message to all the other nodes, which can then execute the changes, making the entire state of the system consistent. These algorithms are essential for blockchain technology and distributed cloud databases.\n",
      "\n",
      "## Boids\n",
      "\n",
      "What's really cool about algorithms is that they can also reflect nature. Consider Craig Reynolds' Boids program, which was created back in '86 and simulates the flocking behavior of birds. What’s so cool about it is that it demonstrates the emerging complexity or beauty that we get out of just a few simple rules. In this case, the birds have three rules: They steer to avoid crowding, they steer towards the average heading of the flock, and they steer towards the center of mass of their local flock mates. The end result is these intricate patterns that weren’t programmed directly but emerged naturally. It’s like making a cake and finding a unicorn on top.\n",
      "\n",
      "## Boyer-Moore String Search\n",
      "\n",
      "Finally, that brings us to an old algorithm that blew my mind just the other day and inspired this video: the Boyer-Moore string search. It’s weird because it becomes faster and more efficient as the string it’s searching becomes bigger. It makes sense when you understand the algorithm. It scans text from right to left and has two rules: When it encounters a bad character not found in the search pattern, it jumps past it based on an estimation made in a pre-processed table. Likewise, if it finds a partial match but a mismatch occurs, it has a separate pre-calculated table that maximizes the number of characters it can safely skip. These rules are called heuristics, which are like functions that aren’t guaranteed to be perfect but are far more practical than looping over every single character. If you've ever wondered why `grep` is so fast, you have this algorithm to thank.\n",
      "\n",
      "So, the next time you're staring at a screen trying to figure out how to sort a list or generate a map, remember these algorithms. They're not just lines of code—they're the backbone of our digital world, from quantum computing to video game maps, and they're making our lives a lot easier (and a lot more interesting).\n"
     ]
    }
   ],
   "source": [
    "for event in graph.stream(None,thread, stream_mode=\"values\"):\n",
    "    print(event[\"blog_content\"])"
   ]
  },
  {
   "cell_type": "code",
   "execution_count": 16,
   "metadata": {},
   "outputs": [
    {
     "data": {
      "text/plain": [
       "StateSnapshot(values={'yt_url': 'https://www.youtube.com/watch?v=SmyPTnlqhlk', 'blog_title': '10 Mind-Boggling Algorithms That Changed the World: From Quantum Computing to Video Game Maps', 'blog_content': '# 10 Mind-Boggling Algorithms That Changed the World: From Quantum Computing to Video Game Maps\\n\\n## Introduction\\n\\nHave you ever woken up in the middle of the night in a panic, wondering how to extract a polygonal mesh of an ISO surface from a three-dimensional discrete scalar field? No? Well, I didn\\'t think so. But back in \\'87, two programmers at General Electric did. They created and patented the marching cubes algorithm, an algorithm that has likely saved countless lives by allowing doctors to visualize data from CT and MRI scans. So, when you\\'re lying on a table getting scanned, you can thank those two for making sure your data looks like a masterpiece.\\n\\nWhen you instruct a machine to solve a problem with code, you\\'re creating an algorithm. It\\'s like giving your computer a recipe for rearranging ones and zeros so that it can make animals talk and vacuums walk. Most algorithms belong in the dumpster, but some are fast, some are beautiful, and some are so weird they\\'re indistinguishable from magic. Today, we’ll look at 10 of the most interesting algorithms ever engineered and how they\\'re used to solve very interesting problems in the real world.\\n\\n## Wave Function Collapse\\n\\nFirst up, wave function collapse—one of the weirdest things in all of science. This concept stems from the double-slit experiment, where particles behave like waves when you\\'re not looking, but when you look, they suddenly collapse down to particles. It makes total sense when you realize we\\'re living in a simulation and the universe wrote this algorithm to cut down on its AWS bill.\\n\\nThe general idea behind wave function collapse can also be implemented programmatically. Imagine you have a map for a video game that needs to go on forever. Instead of making a bigger map, you need an algorithm to procedurally generate it on the fly. Here’s the weird part: We can take this initial map and think of it as being in the initial superposition of all possibilities. Upon observation, it collapses into a particle—or in this case, selects a random map tile while following a consistent set of rules. It provides a random yet cohesive result, and it doesn’t rely on any sort of modern generative AI. This algorithm is like a game of \"Choose Your Own Adventure\" that always picks the most interesting path.\\n\\n## Diffusion\\n\\nSpeaking of which, AI is weird as hell. The diffusion algorithm, originally developed at OpenAI, is the magic behind image generators like DALL·E and Stable Diffusion. The concept of diffusion actually comes from thermodynamics, where particles spread from areas of higher concentration to lower concentration. In AI, the process is reversed. The algorithm starts by generating random noise (high entropy) and gradually refines it to a structured image (low entropy). \\n\\nFirst, you need to train a model that can do this well. The diffusion algorithm works in two phases. In the forward phase, it gradually adds noise to an image until it becomes completely random. In the second phase, the algorithm reverses this process, reconstructing the image back into a coherent form. When it runs over millions of labeled images, you get a collection of weights that can generate new images out of thin air, allowing you to build an infinite army of onlyFans models. It’s highly compute-intensive, but it also works well on audio, and the next frontier is diffusion for video generation.\\n\\n## Simulated Annealing\\n\\nNow, one frustrating thing about programming is that for many problems, there’s not just one solution but many. It’s like trying to organize Amazon’s warehouse: There are many ways to do it, but some are more efficient than others. Simulated annealing is a word that comes from metallurgy, where metals are heated and cooled down over and over again to remove defects. The same idea is used in optimization algorithms to find the best answer in a sea of good answers.\\n\\nImagine trying to find the highest point in a mountain range full of peaks and valleys. A simple hill-climbing algorithm won’t work because there are many local peaks. Initially, the temperature starts high, allowing the algorithm to explore freely. As time goes on, the temperature lowers, decreasing the probability of accepting a worse solution. The trade-off here is exploration versus exploitation. But here’s the funny part: This algorithm is also a good way for beginners to learn how to code. Initially, you start exploring all kinds of different technologies and frameworks, then eventually you find one specific area to specialize in.\\n\\n## Sleep Sort\\n\\nSpeaking of sorting, the most ingenious sorting algorithm of all time is, without a doubt, sleep sort. Most sorting algorithms use strategies like divide and conquer to break up an array into subarrays where it can be sorted more efficiently. But some random genius on the internet found a better way—by delegating the sorting to the CPU scheduler. The code in Bash is incredibly simple: It loops over the array, and for each element, it opens up a new thread that sleeps for the amount of time proportional to the value of its element. Finally, after waking up, it prints that element. It’s genius because it delegates sorting to the CPU scheduler, but it’s also incredibly dumb and useless because it delegates sorting to the CPU scheduler.\\n\\n## BOGO Sort and Quantum BOGO Sort\\n\\nSpeaking of useless sorting algorithms, what about BOGO sort? It tries to sort an array by randomly guessing over and over again. It’s like playing the lottery, but what if we apply the same algorithm with quantum mechanics to the multiverse? If we trust multiverse science, we know that all possible outcomes exist in separate parallel universes. That means if you find yourself with an unsorted array, there\\'s some other parallel universe where it is sorted. With a portal gun, you could travel to that universe and steal the sorted array. Although you\\'d have to kill the version of yourself in that universe. If it’s a really large array, quantum BOGO sort might be worth it. But, let\\'s be real, it\\'s purely hypothetical.\\n\\n## RSA and Shor\\'s Algorithm\\n\\nOne of the most practical and godlike algorithms of all time is RSA, a public key crypto system. It’s essential for digital security, allowing people on the internet to lock their mailboxes and sign their letters with a unique signature. RSA is based on one simple mathematical reality: Multiplying large numbers to find two original large prime numbers is extremely difficult and time-consuming. (Your laptop would take 300 trillion years to brew coffee, unless quantum computers become a thing and we can start leveraging Shor\\'s algorithm, which can solve the integer factorization problem exponentially faster than any classical algorithm.\\n\\nPrime factoring is pretty simple, but how Shor\\'s algorithm does it is where things get weird. It relies on concepts like qubits, superposition, and entanglement to perform massive amounts of calculations in parallel. The algorithm is legit, but so far, the biggest number ever factored is 21. Even IBM\\'s state-of-the-art Q System One fails when trying to factor the number 35. However, recently the Chinese factored a bigger number with a quantum computer using a different algorithm that doesn\\'t scale well for large numbers unlike Shor\\'s algorithm. So, everything is safe for now, but when someone figures out how to make quantum computers work, all hell could break loose in the cybersecurity world.\\n\\n## Marching Cubes Algorithm\\n\\nAt the beginning of this video, I mentioned the marching cubes algorithm, but it deserves a closer look. It starts with a 3D scalar field, which might represent data from an MRI machine. Each point in 3D space is represented by a single number (scalar). The algorithm starts with a single point and takes its eight neighboring locations to form an imaginary cube. It treats the values as bits in an 8-bit integer, resulting in 256 different possibilities that point to a pre-calculated array of polygons. The algorithm marches through each point to create a 3D mesh that can be used in 3D software. Back then, it was really cool because MRI machines produce slices of data that can now be rendered in 3D. In modern times, we\\'re often dealing with distributed systems in the cloud, which brings us to the Byzantine generals problem.\\n\\n## The Byzantine Generals Problem\\n\\nImagine you\\'re a general in the Byzantine Army. You\\'re camped around a city with a few other generals, and you plan to attack at dawn. But what if one of the generals gets drunk and wakes up hungover and can\\'t attack? The entire system could collapse. Computers have the same problem. Sometimes they might fail or be infiltrated by hackers, and you never know when or where that\\'s going to happen. Luckily, algorithms like PBFT (Practical Byzantine Fault Tolerance) are designed to solve this problem, keeping a distributed network working properly even if up to one-third of its nodes go haywire. It works by having a node broadcast a pre-prepare message to other nodes, indicating its readiness to execute some code that will change the system. Once a consensus is formed, the original node sends back a commit message to all the other nodes, which can then execute the changes, making the entire state of the system consistent. These algorithms are essential for blockchain technology and distributed cloud databases.\\n\\n## Boids\\n\\nWhat\\'s really cool about algorithms is that they can also reflect nature. Consider Craig Reynolds\\' Boids program, which was created back in \\'86 and simulates the flocking behavior of birds. What’s so cool about it is that it demonstrates the emerging complexity or beauty that we get out of just a few simple rules. In this case, the birds have three rules: They steer to avoid crowding, they steer towards the average heading of the flock, and they steer towards the center of mass of their local flock mates. The end result is these intricate patterns that weren’t programmed directly but emerged naturally. It’s like making a cake and finding a unicorn on top.\\n\\n## Boyer-Moore String Search\\n\\nFinally, that brings us to an old algorithm that blew my mind just the other day and inspired this video: the Boyer-Moore string search. It’s weird because it becomes faster and more efficient as the string it’s searching becomes bigger. It makes sense when you understand the algorithm. It scans text from right to left and has two rules: When it encounters a bad character not found in the search pattern, it jumps past it based on an estimation made in a pre-processed table. Likewise, if it finds a partial match but a mismatch occurs, it has a separate pre-calculated table that maximizes the number of characters it can safely skip. These rules are called heuristics, which are like functions that aren’t guaranteed to be perfect but are far more practical than looping over every single character. If you\\'ve ever wondered why `grep` is so fast, you have this algorithm to thank.\\n\\nSo, the next time you\\'re staring at a screen trying to figure out how to sort a list or generate a map, remember these algorithms. They\\'re not just lines of code—they\\'re the backbone of our digital world, from quantum computing to video game maps, and they\\'re making our lives a lot easier (and a lot more interesting).', 'regenerate_status': 'no', 'feedback': 'Add a more funny tone to the blog post.', 'message': [SystemMessage(content='Transcript fetched successfully.', additional_kwargs={}, response_metadata={}, id='9a3cdfb5-50e6-40c5-9e98-82e0fdfdd19b'), SystemMessage(content='Blog title generated: 10 Mind-Boggling Algorithms That Changed the World: From Quantum Computing to Video Game Maps', additional_kwargs={}, response_metadata={}, id='7dd35ea4-3e21-4867-8bc4-830751407859'), SystemMessage(content='Blog content generated successfully.', additional_kwargs={}, response_metadata={}, id='3bb9878a-9bb9-4e26-9c8b-679db1a876a8'), SystemMessage(content='Blog title and content regenerated on the users request.', additional_kwargs={}, response_metadata={}, id='3b8495f8-b6f6-40c4-8da1-09b93dc8689d')], 'next_state': 'end'}, next=(), config={'configurable': {'thread_id': '1', 'checkpoint_ns': '', 'checkpoint_id': '1f0058e9-59a8-69f5-8004-90fd6cb7ce3b'}}, metadata={'source': 'update', 'writes': {'human_feedback': {'regenerate_status': 'no', 'next_state': 'end', 'waiting_for_input': 'no'}}, 'thread_id': '1', 'step': 4, 'parents': {}}, created_at='2025-03-20T13:24:00.191333+00:00', parent_config={'configurable': {'thread_id': '1', 'checkpoint_ns': '', 'checkpoint_id': '1f0058e8-e0cd-6761-8003-6ee781771986'}}, tasks=())"
      ]
     },
     "execution_count": 16,
     "metadata": {},
     "output_type": "execute_result"
    }
   ],
   "source": [
    "graph.get_state(thread)"
   ]
  },
  {
   "cell_type": "code",
   "execution_count": null,
   "metadata": {},
   "outputs": [],
   "source": []
  }
 ],
 "metadata": {
  "kernelspec": {
   "display_name": "Python 3",
   "language": "python",
   "name": "python3"
  },
  "language_info": {
   "codemirror_mode": {
    "name": "ipython",
    "version": 3
   },
   "file_extension": ".py",
   "mimetype": "text/x-python",
   "name": "python",
   "nbconvert_exporter": "python",
   "pygments_lexer": "ipython3",
   "version": "3.12.8"
  }
 },
 "nbformat": 4,
 "nbformat_minor": 2
}
