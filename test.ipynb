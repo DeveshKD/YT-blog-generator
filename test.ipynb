{
 "cells": [
  {
   "cell_type": "code",
   "execution_count": 1,
   "metadata": {},
   "outputs": [],
   "source": [
    "from typing import TypedDict, Optional, List, Callable, Dict, Any, Literal\n",
    "from typing_extensions import Annotated\n",
    "import os\n",
    "from langchain_core.messages import AnyMessage, SystemMessage, HumanMessage\n",
    "from langchain_groq import ChatGroq\n",
    "from langgraph.checkpoint.memory import MemorySaver\n",
    "from youtube_transcript_api import YouTubeTranscriptApi\n",
    "from langgraph.graph import StateGraph, add_messages\n",
    "from dotenv import load_dotenv\n",
    "from IPython.display import Image, display\n",
    "from langgraph.graph import START, END"
   ]
  },
  {
   "cell_type": "code",
   "execution_count": 2,
   "metadata": {},
   "outputs": [],
   "source": [
    "load_dotenv()\n",
    "os.environ[\"GROQ_API_KEY\"]=os.getenv(\"GROQ_API_KEY\")"
   ]
  },
  {
   "cell_type": "code",
   "execution_count": 3,
   "metadata": {},
   "outputs": [],
   "source": [
    "class BlogGenState(TypedDict):\n",
    "    yt_url: Optional[str]\n",
    "    transcripts: Optional[str]\n",
    "    blog_title: Optional[str]\n",
    "    blog_content: Optional[str]\n",
    "    regenerate_status: Optional[str]\n",
    "    message: Annotated[list[AnyMessage], add_messages]"
   ]
  },
  {
   "cell_type": "code",
   "execution_count": null,
   "metadata": {},
   "outputs": [],
   "source": [
    "class Agents:\n",
    "    def __init__(self):\n",
    "        self.llm = ChatGroq(model=\"qwen-2.5-32b\")\n",
    "    def generate_blog(self, state: BlogGenState) -> BlogGenState:\n",
    "        \"\"\"\n",
    "        Generates a title and content for the blog based on the transcript.\n",
    "        \n",
    "        Args:\n",
    "            state: The current state of the workflow\n",
    "            \n",
    "        Returns:\n",
    "            Updated state with blog title and content\n",
    "        \"\"\"\n",
    "        if state[\"transcript\"] is None:\n",
    "            video_id = state[\"yt_url\"].split(\"v=\")[-1].split(\"&\")[0]\n",
    "            transcript_list = YouTubeTranscriptApi.get_transcript(video_id)\n",
    "            full_transcript = \" \".join([entry['text'] for entry in transcript_list])\n",
    "            state[\"transcript\"] = full_transcript\n",
    "\n",
    "        title_prompt = [\n",
    "            SystemMessage(content=\"You are an expert in generating titles for BLOG posts based on the transcripts of YouTube videos. IMPORTANT: YOU SIMPLY ONLY CREATE TITLES FOR THE BLOG. NO EXPLANATION IS REQUIRED.\"),\n",
    "            HumanMessage(content=f\"Generate a good blog title for a video with the following transcript: {state['transcript']}\")\n",
    "        ]\n",
    "        blog_title = self.llm.invoke(title_prompt).content.strip()\n",
    "\n",
    "        content_prompt = [\n",
    "            SystemMessage(content=\"\"\"You are an expert in generating content for BLOG posts based on the transcripts of YouTube videos. \n",
    "            IMPORTANT: YOU SIMPLY ONLY CREATE CONTENT FOR THE BLOG. THE TITLE IS ALREADY PROVIDED. \n",
    "            Output format: Simply output the content in markdown format with appropriate headings, paragraphs, and formatting.\"\"\"),\n",
    "            HumanMessage(content=f\"Generate blog content for the title '{blog_title}' based on the following transcript: {state['transcript']}\")\n",
    "        ]\n",
    "        blog_content = self.llm.invoke(content_prompt).content.strip()\n",
    "\n",
    "        return {\n",
    "            \"blog_title\": blog_title,\n",
    "            \"blog_content\": blog_content,\n",
    "            \"message\": state[\"message\"] + [\n",
    "                SystemMessage(content=\"Transcript fetched successfully.\"),\n",
    "                SystemMessage(content=f\"Blog title generated: {blog_title}\"),\n",
    "                SystemMessage(content=\"Blog content generated successfully.\")\n",
    "            ]\n",
    "        }\n",
    "    def human_feedback(self, state: BlogGenState) -> BlogGenState:\n",
    "        \"\"\"Just an empty to update the feedback param\"\"\"\n",
    "        return state"
   ]
  },
  {
   "cell_type": "code",
   "execution_count": 9,
   "metadata": {},
   "outputs": [],
   "source": [
    "class BlogGenGraph:\n",
    "    def __init__(self):\n",
    "        self.agents = Agents()\n",
    "    def regenerate_condition_or_not(self, state: BlogGenState) -> Literal[\"regenerate\",\"end\"]:\n",
    "        if state[\"regenerate_status\"] == \"yes\":\n",
    "            return \"regenerate\"\n",
    "        else:    \n",
    "            return \"end\" \n",
    "    def create_graph(self):\n",
    "        graph_builder = StateGraph(BlogGenState)\n",
    "        graph_builder.add_node(\"generate_blog_with_title\",self.agents.generate_blog)\n",
    "        graph_builder.add_node(\"human_feedback\",self.agents.human_feedback)\n",
    "        graph_builder.add_edge(\"generate_blog_with_title\",\"human_feedback\")\n",
    "        graph_builder.add_conditional_edges(\"human_feedback\",self.regenerate_condition_or_not, {\"regenerate\": \"generate_blog_with_title\", \"end\": END})\n",
    "\n",
    "        graph_builder.set_entry_point(\"generate_blog_with_title\")\n",
    "\n",
    "        memory = MemorySaver()\n",
    "        graph = graph_builder.compile(checkpointer=memory, interrupt_before=[\"human_feedback\"])\n",
    "        return graph"
   ]
  },
  {
   "cell_type": "code",
   "execution_count": 10,
   "metadata": {},
   "outputs": [
    {
     "data": {
      "image/png": "[encoded data removed]",
      "text/plain": [
       "<IPython.core.display.Image object>"
      ]
     },
     "metadata": {},
     "output_type": "display_data"
    }
   ],
   "source": [
    "graph = BlogGenGraph().create_graph()\n",
    "display(Image(graph.get_graph(xray=1).draw_mermaid_png()))"
   ]
  },
  {
   "cell_type": "code",
   "execution_count": null,
   "metadata": {},
   "outputs": [],
   "source": []
  }
 ],
 "metadata": {
  "kernelspec": {
   "display_name": "Python 3",
   "language": "python",
   "name": "python3"
  },
  "language_info": {
   "codemirror_mode": {
    "name": "ipython",
    "version": 3
   },
   "file_extension": ".py",
   "mimetype": "text/x-python",
   "name": "python",
   "nbconvert_exporter": "python",
   "pygments_lexer": "ipython3",
   "version": "3.12.8"
  }
 },
 "nbformat": 4,
 "nbformat_minor": 2
}
