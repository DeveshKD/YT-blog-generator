{
 "cells": [
  {
   "cell_type": "code",
   "execution_count": 24,
   "metadata": {},
   "outputs": [],
   "source": [
    "from typing import TypedDict, Optional, List, Callable, Dict, Any, Literal\n",
    "from typing_extensions import Annotated\n",
    "import os\n",
    "from langchain_core.messages import AnyMessage, SystemMessage, HumanMessage\n",
    "from langchain_groq import ChatGroq\n",
    "from langgraph.checkpoint.memory import MemorySaver\n",
    "from youtube_transcript_api import YouTubeTranscriptApi\n",
    "from langgraph.graph import StateGraph, add_messages\n",
    "from dotenv import load_dotenv\n",
    "from IPython.display import Image, display\n",
    "from langgraph.graph import START, END"
   ]
  },
  {
   "cell_type": "code",
   "execution_count": 25,
   "metadata": {},
   "outputs": [],
   "source": [
    "load_dotenv()\n",
    "os.environ[\"GROQ_API_KEY\"]=os.getenv(\"GROQ_API_KEY\")"
   ]
  },
  {
   "cell_type": "code",
   "execution_count": 36,
   "metadata": {},
   "outputs": [],
   "source": [
    "class BlogGenState(TypedDict):\n",
    "    yt_url: Optional[str]\n",
    "    transcript: Optional[str]\n",
    "    blog_title: Optional[str]\n",
    "    blog_content: Optional[str]\n",
    "    regenerate_status: Optional[str]\n",
    "    message: Annotated[list[AnyMessage], add_messages]"
   ]
  },
  {
   "cell_type": "code",
   "execution_count": 42,
   "metadata": {},
   "outputs": [],
   "source": [
    "class Agents:\n",
    "    def __init__(self):\n",
    "        self.llm = ChatGroq(model=\"qwen-2.5-32b\")\n",
    "    def generate_blog(self, state: BlogGenState) -> BlogGenState:\n",
    "        \"\"\"\n",
    "        Generates a title and content for the blog based on the transcript.\n",
    "        \n",
    "        Args:\n",
    "            state: The current state of the workflow\n",
    "            \n",
    "        Returns:\n",
    "            Updated state with blog title and content\n",
    "        \"\"\"\n",
    "        transcript = state.get(\"transcript\")\n",
    "        if transcript is None:\n",
    "            video_id = state[\"yt_url\"].split(\"v=\")[-1].split(\"&\")[0]\n",
    "            transcript_list = YouTubeTranscriptApi.get_transcript(video_id)\n",
    "            full_transcript = \" \".join([entry['text'] for entry in transcript_list])\n",
    "            state[\"transcript\"] = full_transcript\n",
    "        regen_status = state.get(\"regenerate_status\")\n",
    "        if regen_status == \"yes\":\n",
    "            title_regenerate_prompt = [\n",
    "                SystemMessage(content=\"The user has chosen to regenerate the blog title. Please provide a new title for the blog post based on the transcript. PREVIOUS INSTRUCTIONS: You are an expert in generating titles for BLOG posts based on the transcripts of YouTube videos. IMPORTANT: YOU SIMPLY ONLY CREATE TITLES FOR THE BLOG. NO EXPLANATION IS REQUIRED.\"),\n",
    "                HumanMessage(content=f\"Generate a good blog title for a video with the following transcript: {state['transcript']}\")\n",
    "            ]\n",
    "            content_regenerate_prompt = [\n",
    "                SystemMessage(content=\"The user has chosen to regenerate the blog content. Please provide new content for the blog post based on the transcript. PREVIOUS INSTRUCTIONS: You are an expert in generating content for BLOG posts based on the transcripts of YouTube videos. IMPORTANT: YOU SIMPLY ONLY CREATE CONTENT FOR THE BLOG. THE TITLE IS ALREADY PROVIDED. Output format: Simply output the content in markdown format with appropriate headings, paragraphs, and formatting.\"),\n",
    "                HumanMessage(content=f\"Generate blog content for the title '{state['blog_title']}' based on the following transcript: {state['transcript']}\")\n",
    "            ]\n",
    "            regenerated_title = self.llm.invoke(title_regenerate_prompt).content.strip()\n",
    "            regenerated_content = self.llm.invoke(content_regenerate_prompt).content.strip()\n",
    "\n",
    "            return {\n",
    "                \"blog_title\": regenerated_title,\n",
    "                \"blog_content\": regenerated_content,\n",
    "                \"message\": state[\"message\"] + [\n",
    "                    SystemMessage(content=f\"Blog title and content regenerated on the users request.\")\n",
    "                ]\n",
    "            }\n",
    "\n",
    "        title_prompt = [\n",
    "            SystemMessage(content=\"You are an expert in generating titles for BLOG posts based on the transcripts of YouTube videos. IMPORTANT: YOU SIMPLY ONLY CREATE TITLES FOR THE BLOG. NO EXPLANATION IS REQUIRED.\"),\n",
    "            HumanMessage(content=f\"Generate a good blog title for a video with the following transcript: {state['transcript']}\")\n",
    "        ]\n",
    "        blog_title = self.llm.invoke(title_prompt).content.strip()\n",
    "\n",
    "        content_prompt = [\n",
    "            SystemMessage(content=\"\"\"You are an expert in generating content for BLOG posts based on the transcripts of YouTube videos. \n",
    "            IMPORTANT: YOU SIMPLY ONLY CREATE CONTENT FOR THE BLOG. THE TITLE IS ALREADY PROVIDED. \n",
    "            Output format: Simply output the content in markdown format with appropriate headings, paragraphs, and formatting.\"\"\"),\n",
    "            HumanMessage(content=f\"Generate blog content for the title '{blog_title}' based on the following transcript: {state['transcript']}\")\n",
    "        ]\n",
    "        blog_content = self.llm.invoke(content_prompt).content.strip()\n",
    "\n",
    "        return {\n",
    "            \"blog_title\": blog_title,\n",
    "            \"blog_content\": blog_content,\n",
    "            \"message\": state[\"message\"] + [\n",
    "                SystemMessage(content=\"Transcript fetched successfully.\"),\n",
    "                SystemMessage(content=f\"Blog title generated: {blog_title}\"),\n",
    "                SystemMessage(content=\"Blog content generated successfully.\")\n",
    "            ]\n",
    "        }\n",
    "    def human_feedback(self, state: BlogGenState) -> BlogGenState:\n",
    "        \"\"\"Just an empty to update the feedback param\"\"\"\n",
    "        return state"
   ]
  },
  {
   "cell_type": "code",
   "execution_count": 43,
   "metadata": {},
   "outputs": [],
   "source": [
    "class BlogGenGraph:\n",
    "    def __init__(self):\n",
    "        self.agents = Agents()\n",
    "    def regenerate_condition_or_not(self, state: BlogGenState) -> Literal[\"regenerate\",\"end\"]:\n",
    "        if state[\"regenerate_status\"] == \"yes\":\n",
    "            return \"regenerate\"\n",
    "        else:    \n",
    "            return \"end\" \n",
    "    def create_graph(self):\n",
    "        graph_builder = StateGraph(BlogGenState)\n",
    "        graph_builder.add_node(\"generate_blog_with_title\",self.agents.generate_blog)\n",
    "        graph_builder.add_node(\"human_feedback\",self.agents.human_feedback)\n",
    "        graph_builder.add_edge(\"generate_blog_with_title\",\"human_feedback\")\n",
    "        graph_builder.add_conditional_edges(\"human_feedback\",self.regenerate_condition_or_not, {\"regenerate\": \"generate_blog_with_title\", \"end\": END})\n",
    "\n",
    "        graph_builder.set_entry_point(\"generate_blog_with_title\")\n",
    "\n",
    "        memory = MemorySaver()\n",
    "        graph = graph_builder.compile(checkpointer=memory, interrupt_before=[\"human_feedback\"])\n",
    "        return graph"
   ]
  },
  {
   "cell_type": "code",
   "execution_count": 44,
   "metadata": {},
   "outputs": [
    {
     "data": {
      "image/png": "[encoded data removed]",
      "text/plain": [
       "<IPython.core.display.Image object>"
      ]
     },
     "metadata": {},
     "output_type": "display_data"
    }
   ],
   "source": [
    "graph = BlogGenGraph().create_graph()\n",
    "display(Image(graph.get_graph(xray=1).draw_mermaid_png()))"
   ]
  },
  {
   "cell_type": "code",
   "execution_count": null,
   "metadata": {},
   "outputs": [],
   "source": [
    "youtubelink = \"https://www.youtube.com/watch?v=TCH_1BHY58I\"\n",
    "thread = {\"configurable\": {\"thread_id\": \"1\"}}"
   ]
  },
  {
   "cell_type": "code",
   "execution_count": 46,
   "metadata": {},
   "outputs": [
    {
     "name": "stdout",
     "output_type": "stream",
     "text": [
      "{'yt_url': 'https://www.youtube.com/watch?v=8fZRFmHyoN8&t=1433s', 'message': []}\n",
      "{'yt_url': 'https://www.youtube.com/watch?v=8fZRFmHyoN8&t=1433s', 'blog_title': 'Blue Lock Reaction: Navigating the Chaos of the Top Six Trials and Finding Inspiration Amidst Confusion', 'blog_content': \"## Blue Lock Reaction: Navigating the Chaos of the Top Six Trials and Finding Inspiration Amidst Confusion\\n\\nHey Legends, welcome back to another episode of *Blue Lock*! This season has started off very strong, and we're diving straight into the trials with the top six players to decide who makes it onto the starting squad to face the Japan under-20 team. The first match has already got me pretty frustrated. \\n\\nLet’s break down the first match where we see Crow (or Caro, as some call him) guarding what he thinks is the weak link, but he’s actually allowing our better players to score goals. This strategy is confusing to me, but it does force Isagi to find a way around him, which is good for our boy. \\n\\nThen, we have the demon, Shido, who is absolutely incredible on the field. He scored a sick goal and his soundtrack and art are phenomenal. However, I’ll never forgive him for what he did to Kunigami—bring him back, please! But, I’m still excited to see how this game is going to play out and hope they show us some of the other trials to see how the other top six players perform. \\n\\n### A Word of Inspiration\\n\\nBefore diving back into the action, I wanted to touch on a comment from one of our viewers. They mentioned that they had a big trial coming up and wanted a bit of encouragement. I really appreciate everyone’s feedback, and I always read every comment. \\n\\nThis viewer had a tough trial and didn’t perform as well as they wanted to. But, as we see in *Blue Lock*, tasting defeat can be a powerful motivator. It’s better to try and fail than to never try at all. \\n\\nSo, if you’re feeling like you want to try harder, don’t be afraid to do it. Go out and do that extra training session, read that extra book, or whatever it takes to get better. Don’t apologize for your obsession with *Blue Lock* or anything else that you’re passionate about. Embrace it, and keep pushing yourself to create something exceptional.\\n\\n### Back to the Action\\n\\nNow, let’s get back to the trials. The animation for the action scenes is a bit hard to follow, but I’m sure it’s intentional to keep us on the edge of our seats. The match between Isagi and Shido is intense—these two have such big egos. Shido’s spinning banana shot was sheer brilliance, but I’m still trying to figure out exactly how he did it. \\n\\nRen is stepping up and handling the pressure well. He’s got some good footwork and is a solid defender, especially against Shido, who’s like a rabid dog on the field. The music is building up, and the atmosphere is electrifying. I’m still a bit confused about how some of the goals are scored, but the overall quality of the show is fantastic. The music, the artwork, and the voice acting are all top-notch. \\n\\n### Final Thoughts\\n\\nDespite the confusion and frustration, I’m still deeply invested in the show. I’m grateful for all of you watching along with me. If you can help me understand the parts I missed or the mechanics of the game, it would be incredibly helpful. \\n\\nRemember, you don’t need permission to be obsessed with *Blue Lock* or any other passion you have. Keep pushing, keep trying, and don’t let anyone bring you down. \\n\\nSo, Legends, keep supporting each other, and I’ll see you in the next reaction. Peace out!\", 'message': [SystemMessage(content='Transcript fetched successfully.', additional_kwargs={}, response_metadata={}, id='30efff90-0011-4a52-9bdc-3b472998b9df'), SystemMessage(content='Blog title generated: Blue Lock Reaction: Navigating the Chaos of the Top Six Trials and Finding Inspiration Amidst Confusion', additional_kwargs={}, response_metadata={}, id='862ce817-e710-45c9-bd0f-1756f6660179'), SystemMessage(content='Blog content generated successfully.', additional_kwargs={}, response_metadata={}, id='c48eaea2-f492-4bcc-8adc-3c2dab3a7ac1')]}\n"
     ]
    }
   ],
   "source": [
    "for event in graph.stream({\"yt_url\": youtubelink},thread, stream_mode=\"values\"):\n",
    "    print(event)"
   ]
  },
  {
   "cell_type": "code",
   "execution_count": 47,
   "metadata": {},
   "outputs": [
    {
     "data": {
      "text/plain": [
       "('human_feedback',)"
      ]
     },
     "execution_count": 47,
     "metadata": {},
     "output_type": "execute_result"
    }
   ],
   "source": [
    "graph.get_state(thread).next"
   ]
  },
  {
   "cell_type": "code",
   "execution_count": 48,
   "metadata": {},
   "outputs": [
    {
     "data": {
      "text/plain": [
       "{'configurable': {'thread_id': '1',\n",
       "  'checkpoint_ns': '',\n",
       "  'checkpoint_id': '1eff5e47-8e10-679f-8002-f344e89cd1f2'}}"
      ]
     },
     "execution_count": 48,
     "metadata": {},
     "output_type": "execute_result"
    }
   ],
   "source": [
    "graph.update_state(thread, {\"regenerate_status\": \"yes\"}, as_node=\"human_feedback\")"
   ]
  },
  {
   "cell_type": "code",
   "execution_count": 49,
   "metadata": {},
   "outputs": [
    {
     "name": "stdout",
     "output_type": "stream",
     "text": [
      "{'yt_url': 'https://www.youtube.com/watch?v=8fZRFmHyoN8&t=1433s', 'blog_title': 'Blue Lock Reaction: Navigating the Chaos of the Top Six Trials and Finding Inspiration Amidst Confusion', 'blog_content': \"## Blue Lock Reaction: Navigating the Chaos of the Top Six Trials and Finding Inspiration Amidst Confusion\\n\\nHey Legends, welcome back to another episode of *Blue Lock*! This season has started off very strong, and we're diving straight into the trials with the top six players to decide who makes it onto the starting squad to face the Japan under-20 team. The first match has already got me pretty frustrated. \\n\\nLet’s break down the first match where we see Crow (or Caro, as some call him) guarding what he thinks is the weak link, but he’s actually allowing our better players to score goals. This strategy is confusing to me, but it does force Isagi to find a way around him, which is good for our boy. \\n\\nThen, we have the demon, Shido, who is absolutely incredible on the field. He scored a sick goal and his soundtrack and art are phenomenal. However, I’ll never forgive him for what he did to Kunigami—bring him back, please! But, I’m still excited to see how this game is going to play out and hope they show us some of the other trials to see how the other top six players perform. \\n\\n### A Word of Inspiration\\n\\nBefore diving back into the action, I wanted to touch on a comment from one of our viewers. They mentioned that they had a big trial coming up and wanted a bit of encouragement. I really appreciate everyone’s feedback, and I always read every comment. \\n\\nThis viewer had a tough trial and didn’t perform as well as they wanted to. But, as we see in *Blue Lock*, tasting defeat can be a powerful motivator. It’s better to try and fail than to never try at all. \\n\\nSo, if you’re feeling like you want to try harder, don’t be afraid to do it. Go out and do that extra training session, read that extra book, or whatever it takes to get better. Don’t apologize for your obsession with *Blue Lock* or anything else that you’re passionate about. Embrace it, and keep pushing yourself to create something exceptional.\\n\\n### Back to the Action\\n\\nNow, let’s get back to the trials. The animation for the action scenes is a bit hard to follow, but I’m sure it’s intentional to keep us on the edge of our seats. The match between Isagi and Shido is intense—these two have such big egos. Shido’s spinning banana shot was sheer brilliance, but I’m still trying to figure out exactly how he did it. \\n\\nRen is stepping up and handling the pressure well. He’s got some good footwork and is a solid defender, especially against Shido, who’s like a rabid dog on the field. The music is building up, and the atmosphere is electrifying. I’m still a bit confused about how some of the goals are scored, but the overall quality of the show is fantastic. The music, the artwork, and the voice acting are all top-notch. \\n\\n### Final Thoughts\\n\\nDespite the confusion and frustration, I’m still deeply invested in the show. I’m grateful for all of you watching along with me. If you can help me understand the parts I missed or the mechanics of the game, it would be incredibly helpful. \\n\\nRemember, you don’t need permission to be obsessed with *Blue Lock* or any other passion you have. Keep pushing, keep trying, and don’t let anyone bring you down. \\n\\nSo, Legends, keep supporting each other, and I’ll see you in the next reaction. Peace out!\", 'regenerate_status': 'yes', 'message': [SystemMessage(content='Transcript fetched successfully.', additional_kwargs={}, response_metadata={}, id='30efff90-0011-4a52-9bdc-3b472998b9df'), SystemMessage(content='Blog title generated: Blue Lock Reaction: Navigating the Chaos of the Top Six Trials and Finding Inspiration Amidst Confusion', additional_kwargs={}, response_metadata={}, id='862ce817-e710-45c9-bd0f-1756f6660179'), SystemMessage(content='Blog content generated successfully.', additional_kwargs={}, response_metadata={}, id='c48eaea2-f492-4bcc-8adc-3c2dab3a7ac1')]}\n",
      "{'yt_url': 'https://www.youtube.com/watch?v=8fZRFmHyoN8&t=1433s', 'blog_title': 'Blue Lock Reaction: Navigating the Chaos of the Top Six Trials and Staying Motivated Through Adversity', 'blog_content': '# Blue Lock Reaction: Navigating the Chaos of the Top Six Trials and Finding Inspiration Amidst Confusion\\n\\nHey, Legends! Welcome back to another Blue Lock reaction. The season has started off strong, and we\\'re diving right into the top six trials to see who will make it onto the starting squad to face the Japan under-20s. The first match of the trials has already got me a bit frustrated. There’s this \"Crow\" dude, who seems to be guarding the weak link, but his strategy doesn’t make sense to me. It\\'s confusing to see him allowing better players to score goals, but at least it forces Isagi to figure out how to get around him, which is good for our boy.\\n\\n## The Confusion and Frustration\\n\\nLet\\'s talk about Shido, the demon who scores an absolutely sick goal. His soundtrack and art are phenomenal, but I still can\\'t forgive him for what he did to Kunigami. I hope we get to see more of the other top six players, and I\\'m eager to see how their trials play out. So, let\\'s continue with the reaction!\\n\\n## Inspirational Moments\\n\\nBefore we jump back into the match, I just wanted to share a quick note. In my last video, someone mentioned they had a big trial coming up and didn\\'t do as well as they could have. I can relate to the disappointment of not performing as expected. But, just like in Blue Lock, tasting defeat can make you stronger. Don’t be afraid to push yourself, and don\\'t apologize for shining bright. If you want to be exceptional, you have to be different from the crowd.\\n\\n## The Match Breakdown\\n\\nReturning to the match, the action is hard to follow with the current animation style. The fight between Ren and Shido is intense, especially when Shido uses his \"spinning banana shot.\" The animation doesn\\'t always capture the full action, which makes it difficult to understand what\\'s happening. I feel like I\\'m missing some crucial moments, and the lack of halftime screens makes it harder to take a breather.\\n\\n## The Positive Aspects\\n\\nDespite the confusing moments, the artwork is fantastic, and the story is progressing well. The voice actors do a great job, and the music is on point. I love so many different aspects of the show, and I\\'m grateful for your support and insights in the comments. Your feedback really helps me understand the action and appreciate the finer details.\\n\\n## Looking Ahead\\n\\nI\\'m really happy to see Isagi get some assists and a goal, and it looks like Ego was impressed, even saying he was \"stepping into the mechanics of a miracle.\" The trials are intense, and each player\\'s unique style is highlighted, even if the animation is a bit chaotic at times.\\n\\n## Final Thoughts\\n\\nLegends, I hope you\\'re enjoying the show as much as I am. Your comments and feedback mean the world to me. If you can help me understand some of the parts I missed, I\\'d be grateful. Remember, you don’t need anyone’s permission to be obsessed with something you love. Keep pushing, keep trying, and never apologize for your passion.\\n\\nSo, Legends, that’s it for this reaction. Hope you all have a fantastic rest of the day, and I\\'ll see you in the next one! Peace out, Legends!', 'regenerate_status': 'yes', 'message': [SystemMessage(content='Transcript fetched successfully.', additional_kwargs={}, response_metadata={}, id='30efff90-0011-4a52-9bdc-3b472998b9df'), SystemMessage(content='Blog title generated: Blue Lock Reaction: Navigating the Chaos of the Top Six Trials and Finding Inspiration Amidst Confusion', additional_kwargs={}, response_metadata={}, id='862ce817-e710-45c9-bd0f-1756f6660179'), SystemMessage(content='Blog content generated successfully.', additional_kwargs={}, response_metadata={}, id='c48eaea2-f492-4bcc-8adc-3c2dab3a7ac1'), SystemMessage(content='Blog title and content regenerated on the users request.', additional_kwargs={}, response_metadata={}, id='4980ec68-dc0d-4319-9299-062ecdbb7273')]}\n"
     ]
    }
   ],
   "source": [
    "for event in graph.stream(None,thread, stream_mode=\"values\"):\n",
    "    print(event)"
   ]
  },
  {
   "cell_type": "code",
   "execution_count": 50,
   "metadata": {},
   "outputs": [
    {
     "data": {
      "text/plain": [
       "('human_feedback',)"
      ]
     },
     "execution_count": 50,
     "metadata": {},
     "output_type": "execute_result"
    }
   ],
   "source": [
    "graph.get_state(thread).next"
   ]
  },
  {
   "cell_type": "code",
   "execution_count": 51,
   "metadata": {},
   "outputs": [
    {
     "data": {
      "text/plain": [
       "{'configurable': {'thread_id': '1',\n",
       "  'checkpoint_ns': '',\n",
       "  'checkpoint_id': '1eff5e4c-f38a-67d6-8004-b9c426479fe7'}}"
      ]
     },
     "execution_count": 51,
     "metadata": {},
     "output_type": "execute_result"
    }
   ],
   "source": [
    "graph.update_state(thread, {\"regenerate_status\": \"no\"}, as_node=\"human_feedback\")"
   ]
  },
  {
   "cell_type": "code",
   "execution_count": 52,
   "metadata": {},
   "outputs": [
    {
     "name": "stdout",
     "output_type": "stream",
     "text": [
      "{'yt_url': 'https://www.youtube.com/watch?v=8fZRFmHyoN8&t=1433s', 'blog_title': 'Blue Lock Reaction: Navigating the Chaos of the Top Six Trials and Staying Motivated Through Adversity', 'blog_content': '# Blue Lock Reaction: Navigating the Chaos of the Top Six Trials and Finding Inspiration Amidst Confusion\\n\\nHey, Legends! Welcome back to another Blue Lock reaction. The season has started off strong, and we\\'re diving right into the top six trials to see who will make it onto the starting squad to face the Japan under-20s. The first match of the trials has already got me a bit frustrated. There’s this \"Crow\" dude, who seems to be guarding the weak link, but his strategy doesn’t make sense to me. It\\'s confusing to see him allowing better players to score goals, but at least it forces Isagi to figure out how to get around him, which is good for our boy.\\n\\n## The Confusion and Frustration\\n\\nLet\\'s talk about Shido, the demon who scores an absolutely sick goal. His soundtrack and art are phenomenal, but I still can\\'t forgive him for what he did to Kunigami. I hope we get to see more of the other top six players, and I\\'m eager to see how their trials play out. So, let\\'s continue with the reaction!\\n\\n## Inspirational Moments\\n\\nBefore we jump back into the match, I just wanted to share a quick note. In my last video, someone mentioned they had a big trial coming up and didn\\'t do as well as they could have. I can relate to the disappointment of not performing as expected. But, just like in Blue Lock, tasting defeat can make you stronger. Don’t be afraid to push yourself, and don\\'t apologize for shining bright. If you want to be exceptional, you have to be different from the crowd.\\n\\n## The Match Breakdown\\n\\nReturning to the match, the action is hard to follow with the current animation style. The fight between Ren and Shido is intense, especially when Shido uses his \"spinning banana shot.\" The animation doesn\\'t always capture the full action, which makes it difficult to understand what\\'s happening. I feel like I\\'m missing some crucial moments, and the lack of halftime screens makes it harder to take a breather.\\n\\n## The Positive Aspects\\n\\nDespite the confusing moments, the artwork is fantastic, and the story is progressing well. The voice actors do a great job, and the music is on point. I love so many different aspects of the show, and I\\'m grateful for your support and insights in the comments. Your feedback really helps me understand the action and appreciate the finer details.\\n\\n## Looking Ahead\\n\\nI\\'m really happy to see Isagi get some assists and a goal, and it looks like Ego was impressed, even saying he was \"stepping into the mechanics of a miracle.\" The trials are intense, and each player\\'s unique style is highlighted, even if the animation is a bit chaotic at times.\\n\\n## Final Thoughts\\n\\nLegends, I hope you\\'re enjoying the show as much as I am. Your comments and feedback mean the world to me. If you can help me understand some of the parts I missed, I\\'d be grateful. Remember, you don’t need anyone’s permission to be obsessed with something you love. Keep pushing, keep trying, and never apologize for your passion.\\n\\nSo, Legends, that’s it for this reaction. Hope you all have a fantastic rest of the day, and I\\'ll see you in the next one! Peace out, Legends!', 'regenerate_status': 'no', 'message': [SystemMessage(content='Transcript fetched successfully.', additional_kwargs={}, response_metadata={}, id='30efff90-0011-4a52-9bdc-3b472998b9df'), SystemMessage(content='Blog title generated: Blue Lock Reaction: Navigating the Chaos of the Top Six Trials and Finding Inspiration Amidst Confusion', additional_kwargs={}, response_metadata={}, id='862ce817-e710-45c9-bd0f-1756f6660179'), SystemMessage(content='Blog content generated successfully.', additional_kwargs={}, response_metadata={}, id='c48eaea2-f492-4bcc-8adc-3c2dab3a7ac1'), SystemMessage(content='Blog title and content regenerated on the users request.', additional_kwargs={}, response_metadata={}, id='4980ec68-dc0d-4319-9299-062ecdbb7273')]}\n"
     ]
    }
   ],
   "source": [
    "for event in graph.stream(None,thread, stream_mode=\"values\"):\n",
    "    print(event)"
   ]
  },
  {
   "cell_type": "code",
   "execution_count": null,
   "metadata": {},
   "outputs": [],
   "source": []
  }
 ],
 "metadata": {
  "kernelspec": {
   "display_name": "Python 3",
   "language": "python",
   "name": "python3"
  },
  "language_info": {
   "codemirror_mode": {
    "name": "ipython",
    "version": 3
   },
   "file_extension": ".py",
   "mimetype": "text/x-python",
   "name": "python",
   "nbconvert_exporter": "python",
   "pygments_lexer": "ipython3",
   "version": "3.12.8"
  }
 },
 "nbformat": 4,
 "nbformat_minor": 2
}
